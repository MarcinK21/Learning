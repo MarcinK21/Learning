{
 "cells": [
  {
   "cell_type": "markdown",
   "id": "b56b0a76",
   "metadata": {},
   "source": [
    "# Section 3: Moduł PANDAS"
   ]
  },
  {
   "cell_type": "code",
   "execution_count": 1,
   "id": "792f7027",
   "metadata": {},
   "outputs": [],
   "source": [
    "import pandas as pd\n",
    "import numpy as np\n",
    "import matplotlib.pyplot as plt\n",
    "import math as math"
   ]
  },
  {
   "cell_type": "code",
   "execution_count": 2,
   "id": "10b4eab9",
   "metadata": {},
   "outputs": [],
   "source": [
    "%matplotlib inline"
   ]
  },
  {
   "cell_type": "code",
   "execution_count": 10,
   "id": "db040a0f",
   "metadata": {
    "collapsed": true
   },
   "outputs": [
    {
     "data": {
      "text/html": [
       "<div>\n",
       "<style scoped>\n",
       "    .dataframe tbody tr th:only-of-type {\n",
       "        vertical-align: middle;\n",
       "    }\n",
       "\n",
       "    .dataframe tbody tr th {\n",
       "        vertical-align: top;\n",
       "    }\n",
       "\n",
       "    .dataframe thead th {\n",
       "        text-align: right;\n",
       "    }\n",
       "</style>\n",
       "<table border=\"1\" class=\"dataframe\">\n",
       "  <thead>\n",
       "    <tr style=\"text-align: right;\">\n",
       "      <th></th>\n",
       "      <th>#</th>\n",
       "      <th>Name</th>\n",
       "      <th>Type 1</th>\n",
       "      <th>Type 2</th>\n",
       "      <th>Total</th>\n",
       "      <th>HP</th>\n",
       "      <th>Attack</th>\n",
       "      <th>Defense</th>\n",
       "      <th>Sp. Atk</th>\n",
       "      <th>Sp. Def</th>\n",
       "      <th>Speed</th>\n",
       "      <th>Generation</th>\n",
       "      <th>Legendary</th>\n",
       "    </tr>\n",
       "  </thead>\n",
       "  <tbody>\n",
       "    <tr>\n",
       "      <th>0</th>\n",
       "      <td>1</td>\n",
       "      <td>Bulbasaur</td>\n",
       "      <td>Grass</td>\n",
       "      <td>Poison</td>\n",
       "      <td>318</td>\n",
       "      <td>45</td>\n",
       "      <td>49</td>\n",
       "      <td>49</td>\n",
       "      <td>65</td>\n",
       "      <td>65</td>\n",
       "      <td>45</td>\n",
       "      <td>1</td>\n",
       "      <td>False</td>\n",
       "    </tr>\n",
       "    <tr>\n",
       "      <th>1</th>\n",
       "      <td>2</td>\n",
       "      <td>Ivysaur</td>\n",
       "      <td>Grass</td>\n",
       "      <td>Poison</td>\n",
       "      <td>405</td>\n",
       "      <td>60</td>\n",
       "      <td>62</td>\n",
       "      <td>63</td>\n",
       "      <td>80</td>\n",
       "      <td>80</td>\n",
       "      <td>60</td>\n",
       "      <td>1</td>\n",
       "      <td>False</td>\n",
       "    </tr>\n",
       "    <tr>\n",
       "      <th>2</th>\n",
       "      <td>3</td>\n",
       "      <td>Venusaur</td>\n",
       "      <td>Grass</td>\n",
       "      <td>Poison</td>\n",
       "      <td>525</td>\n",
       "      <td>80</td>\n",
       "      <td>82</td>\n",
       "      <td>83</td>\n",
       "      <td>100</td>\n",
       "      <td>100</td>\n",
       "      <td>80</td>\n",
       "      <td>1</td>\n",
       "      <td>False</td>\n",
       "    </tr>\n",
       "    <tr>\n",
       "      <th>3</th>\n",
       "      <td>3</td>\n",
       "      <td>VenusaurMega Venusaur</td>\n",
       "      <td>Grass</td>\n",
       "      <td>Poison</td>\n",
       "      <td>625</td>\n",
       "      <td>80</td>\n",
       "      <td>100</td>\n",
       "      <td>123</td>\n",
       "      <td>122</td>\n",
       "      <td>120</td>\n",
       "      <td>80</td>\n",
       "      <td>1</td>\n",
       "      <td>False</td>\n",
       "    </tr>\n",
       "    <tr>\n",
       "      <th>4</th>\n",
       "      <td>4</td>\n",
       "      <td>Charmander</td>\n",
       "      <td>Fire</td>\n",
       "      <td>NaN</td>\n",
       "      <td>309</td>\n",
       "      <td>39</td>\n",
       "      <td>52</td>\n",
       "      <td>43</td>\n",
       "      <td>60</td>\n",
       "      <td>50</td>\n",
       "      <td>65</td>\n",
       "      <td>1</td>\n",
       "      <td>False</td>\n",
       "    </tr>\n",
       "    <tr>\n",
       "      <th>...</th>\n",
       "      <td>...</td>\n",
       "      <td>...</td>\n",
       "      <td>...</td>\n",
       "      <td>...</td>\n",
       "      <td>...</td>\n",
       "      <td>...</td>\n",
       "      <td>...</td>\n",
       "      <td>...</td>\n",
       "      <td>...</td>\n",
       "      <td>...</td>\n",
       "      <td>...</td>\n",
       "      <td>...</td>\n",
       "      <td>...</td>\n",
       "    </tr>\n",
       "    <tr>\n",
       "      <th>795</th>\n",
       "      <td>719</td>\n",
       "      <td>Diancie</td>\n",
       "      <td>Rock</td>\n",
       "      <td>Fairy</td>\n",
       "      <td>600</td>\n",
       "      <td>50</td>\n",
       "      <td>100</td>\n",
       "      <td>150</td>\n",
       "      <td>100</td>\n",
       "      <td>150</td>\n",
       "      <td>50</td>\n",
       "      <td>6</td>\n",
       "      <td>True</td>\n",
       "    </tr>\n",
       "    <tr>\n",
       "      <th>796</th>\n",
       "      <td>719</td>\n",
       "      <td>DiancieMega Diancie</td>\n",
       "      <td>Rock</td>\n",
       "      <td>Fairy</td>\n",
       "      <td>700</td>\n",
       "      <td>50</td>\n",
       "      <td>160</td>\n",
       "      <td>110</td>\n",
       "      <td>160</td>\n",
       "      <td>110</td>\n",
       "      <td>110</td>\n",
       "      <td>6</td>\n",
       "      <td>True</td>\n",
       "    </tr>\n",
       "    <tr>\n",
       "      <th>797</th>\n",
       "      <td>720</td>\n",
       "      <td>HoopaHoopa Confined</td>\n",
       "      <td>Psychic</td>\n",
       "      <td>Ghost</td>\n",
       "      <td>600</td>\n",
       "      <td>80</td>\n",
       "      <td>110</td>\n",
       "      <td>60</td>\n",
       "      <td>150</td>\n",
       "      <td>130</td>\n",
       "      <td>70</td>\n",
       "      <td>6</td>\n",
       "      <td>True</td>\n",
       "    </tr>\n",
       "    <tr>\n",
       "      <th>798</th>\n",
       "      <td>720</td>\n",
       "      <td>HoopaHoopa Unbound</td>\n",
       "      <td>Psychic</td>\n",
       "      <td>Dark</td>\n",
       "      <td>680</td>\n",
       "      <td>80</td>\n",
       "      <td>160</td>\n",
       "      <td>60</td>\n",
       "      <td>170</td>\n",
       "      <td>130</td>\n",
       "      <td>80</td>\n",
       "      <td>6</td>\n",
       "      <td>True</td>\n",
       "    </tr>\n",
       "    <tr>\n",
       "      <th>799</th>\n",
       "      <td>721</td>\n",
       "      <td>Volcanion</td>\n",
       "      <td>Fire</td>\n",
       "      <td>Water</td>\n",
       "      <td>600</td>\n",
       "      <td>80</td>\n",
       "      <td>110</td>\n",
       "      <td>120</td>\n",
       "      <td>130</td>\n",
       "      <td>90</td>\n",
       "      <td>70</td>\n",
       "      <td>6</td>\n",
       "      <td>True</td>\n",
       "    </tr>\n",
       "  </tbody>\n",
       "</table>\n",
       "<p>800 rows × 13 columns</p>\n",
       "</div>"
      ],
      "text/plain": [
       "       #                   Name   Type 1  Type 2  Total  HP  Attack  Defense  \\\n",
       "0      1              Bulbasaur    Grass  Poison    318  45      49       49   \n",
       "1      2                Ivysaur    Grass  Poison    405  60      62       63   \n",
       "2      3               Venusaur    Grass  Poison    525  80      82       83   \n",
       "3      3  VenusaurMega Venusaur    Grass  Poison    625  80     100      123   \n",
       "4      4             Charmander     Fire     NaN    309  39      52       43   \n",
       "..   ...                    ...      ...     ...    ...  ..     ...      ...   \n",
       "795  719                Diancie     Rock   Fairy    600  50     100      150   \n",
       "796  719    DiancieMega Diancie     Rock   Fairy    700  50     160      110   \n",
       "797  720    HoopaHoopa Confined  Psychic   Ghost    600  80     110       60   \n",
       "798  720     HoopaHoopa Unbound  Psychic    Dark    680  80     160       60   \n",
       "799  721              Volcanion     Fire   Water    600  80     110      120   \n",
       "\n",
       "     Sp. Atk  Sp. Def  Speed  Generation  Legendary  \n",
       "0         65       65     45           1      False  \n",
       "1         80       80     60           1      False  \n",
       "2        100      100     80           1      False  \n",
       "3        122      120     80           1      False  \n",
       "4         60       50     65           1      False  \n",
       "..       ...      ...    ...         ...        ...  \n",
       "795      100      150     50           6       True  \n",
       "796      160      110    110           6       True  \n",
       "797      150      130     70           6       True  \n",
       "798      170      130     80           6       True  \n",
       "799      130       90     70           6       True  \n",
       "\n",
       "[800 rows x 13 columns]"
      ]
     },
     "execution_count": 10,
     "metadata": {},
     "output_type": "execute_result"
    }
   ],
   "source": [
    "pd.read_csv(\"./data/pokemon.csv\")"
   ]
  },
  {
   "cell_type": "code",
   "execution_count": 5,
   "id": "0d5e6915",
   "metadata": {
    "collapsed": true
   },
   "outputs": [
    {
     "data": {
      "image/png": "[encoded data removed]",
      "text/plain": [
       "<Figure size 640x480 with 1 Axes>"
      ]
     },
     "metadata": {},
     "output_type": "display_data"
    }
   ],
   "source": [
    "plt.plot([1,2,3,4])\n",
    "plt.ylabel('some numbers')\n",
    "plt.show()"
   ]
  },
  {
   "cell_type": "code",
   "execution_count": 7,
   "id": "dce8d7f8",
   "metadata": {
    "collapsed": true
   },
   "outputs": [
    {
     "data": {
      "text/plain": [
       "[<matplotlib.lines.Line2D at 0x1750562e6a0>]"
      ]
     },
     "execution_count": 7,
     "metadata": {},
     "output_type": "execute_result"
    },
    {
     "data": {
      "image/png": "[encoded data removed]",
      "text/plain": [
       "<Figure size 640x480 with 1 Axes>"
      ]
     },
     "metadata": {},
     "output_type": "display_data"
    }
   ],
   "source": [
    "plt.plot([1,2,3,4],[1,4,9,16], 'ro')"
   ]
  },
  {
   "cell_type": "code",
   "execution_count": 8,
   "id": "6e14f5bf",
   "metadata": {},
   "outputs": [
    {
     "data": {
      "text/plain": [
       "array([0. , 0.2, 0.4, 0.6, 0.8, 1. , 1.2, 1.4, 1.6, 1.8, 2. , 2.2, 2.4,\n",
       "       2.6, 2.8, 3. , 3.2, 3.4, 3.6, 3.8, 4. , 4.2, 4.4, 4.6, 4.8])"
      ]
     },
     "execution_count": 8,
     "metadata": {},
     "output_type": "execute_result"
    }
   ],
   "source": [
    "t = np.arange(0., 5., 0.2)\n",
    "t"
   ]
  },
  {
   "cell_type": "code",
   "execution_count": 9,
   "id": "582c85b6",
   "metadata": {
    "collapsed": true
   },
   "outputs": [
    {
     "data": {
      "text/plain": [
       "[<matplotlib.lines.Line2D at 0x175056137c0>,\n",
       " <matplotlib.lines.Line2D at 0x17505613790>,\n",
       " <matplotlib.lines.Line2D at 0x1750563a640>]"
      ]
     },
     "execution_count": 9,
     "metadata": {},
     "output_type": "execute_result"
    },
    {
     "data": {
      "image/png": "[encoded data removed]",
      "text/plain": [
       "<Figure size 640x480 with 1 Axes>"
      ]
     },
     "metadata": {},
     "output_type": "display_data"
    }
   ],
   "source": [
    "plt.plot(t, t, 'r--', t, t**2, 'bs', t, t**3, 'g^')"
   ]
  },
  {
   "cell_type": "code",
   "execution_count": null,
   "id": "54deed52",
   "metadata": {},
   "outputs": [],
   "source": []
  },
  {
   "cell_type": "code",
   "execution_count": 11,
   "id": "7ffd5dbe",
   "metadata": {
    "collapsed": true
   },
   "outputs": [
    {
     "data": {
      "image/png": "[encoded data removed]",
      "text/plain": [
       "<Figure size 640x480 with 1 Axes>"
      ]
     },
     "metadata": {},
     "output_type": "display_data"
    }
   ],
   "source": [
    "Min = 0\n",
    "Max = 4 * np.pi\n",
    "Step = 0.1\n",
    "\n",
    "x = np.arange(Min, Max, Step)\n",
    "y = np.sin(x)\n",
    "\n",
    "plt.plot(x,y)\n",
    "plt.xlabel('angle')\n",
    "plt.ylabel('sin(angle)')\n",
    "plt.show()"
   ]
  },
  {
   "cell_type": "markdown",
   "id": "70b76afb",
   "metadata": {},
   "source": [
    "# Zadania"
   ]
  },
  {
   "cell_type": "code",
   "execution_count": 34,
   "id": "7cb16865",
   "metadata": {
    "collapsed": true
   },
   "outputs": [
    {
     "data": {
      "text/plain": [
       "[<matplotlib.lines.Line2D at 0x175077736d0>]"
      ]
     },
     "execution_count": 34,
     "metadata": {},
     "output_type": "execute_result"
    },
    {
     "data": {
      "image/png": "[encoded data removed]",
      "text/plain": [
       "<Figure size 640x480 with 1 Axes>"
      ]
     },
     "metadata": {},
     "output_type": "display_data"
    }
   ],
   "source": [
    "days = [1,2,3,4,5]\n",
    "amount = [1,5,20,450,700]\n",
    "\n",
    "plt.plot(days,amount, 'bs')\n"
   ]
  },
  {
   "cell_type": "code",
   "execution_count": 40,
   "id": "1498b721",
   "metadata": {},
   "outputs": [
    {
     "data": {
      "text/plain": [
       "array([103, 106, 109, 112, 115, 118, 121, 124, 127, 130, 133, 136])"
      ]
     },
     "execution_count": 40,
     "metadata": {},
     "output_type": "execute_result"
    }
   ],
   "source": [
    "months = np.arange(1, 13, 1)\n",
    "months\n",
    "\n",
    "income = 100 + 3 * months\n",
    "income\n"
   ]
  },
  {
   "cell_type": "code",
   "execution_count": 43,
   "id": "8cb6e284",
   "metadata": {
    "collapsed": true
   },
   "outputs": [
    {
     "data": {
      "text/plain": [
       "[<matplotlib.lines.Line2D at 0x175075e4ee0>]"
      ]
     },
     "execution_count": 43,
     "metadata": {},
     "output_type": "execute_result"
    },
    {
     "data": {
      "image/png": "[encoded data removed]",
      "text/plain": [
       "<Figure size 640x480 with 1 Axes>"
      ]
     },
     "metadata": {},
     "output_type": "display_data"
    }
   ],
   "source": [
    "plt.plot(months, income, 'go')"
   ]
  },
  {
   "cell_type": "code",
   "execution_count": 51,
   "id": "5e15ab78",
   "metadata": {},
   "outputs": [],
   "source": [
    "cost = 50 + 10 * months"
   ]
  },
  {
   "cell_type": "code",
   "execution_count": 54,
   "id": "4b682683",
   "metadata": {
    "collapsed": true
   },
   "outputs": [
    {
     "data": {
      "text/plain": [
       "[<matplotlib.lines.Line2D at 0x175074ef3a0>,\n",
       " <matplotlib.lines.Line2D at 0x175074ef430>]"
      ]
     },
     "execution_count": 54,
     "metadata": {},
     "output_type": "execute_result"
    },
    {
     "data": {
      "image/png": "[encoded data removed]",
      "text/plain": [
       "<Figure size 640x480 with 1 Axes>"
      ]
     },
     "metadata": {},
     "output_type": "display_data"
    }
   ],
   "source": [
    "plt.plot(months, income, 'go', months, cost, 'r^')"
   ]
  },
  {
   "cell_type": "code",
   "execution_count": 56,
   "id": "811fcf85",
   "metadata": {
    "collapsed": true
   },
   "outputs": [
    {
     "data": {
      "image/png": "[encoded data removed]",
      "text/plain": [
       "<Figure size 640x480 with 1 Axes>"
      ]
     },
     "metadata": {},
     "output_type": "display_data"
    }
   ],
   "source": [
    "x = np.arange(-5, 5, 0.1)\n",
    "\n",
    "plt.plot(x, pow(2,x))\n",
    "plt.xlabel(\"X - Arguments\")\n",
    "plt.ylabel(\"Y - Values\")\n",
    "plt.show()"
   ]
  },
  {
   "cell_type": "markdown",
   "id": "7f25a527",
   "metadata": {},
   "source": [
    "# Section 4: Data Series"
   ]
  },
  {
   "cell_type": "markdown",
   "id": "405b8de6",
   "metadata": {},
   "source": [
    "## Ręczne tworzenie Data Series"
   ]
  },
  {
   "cell_type": "code",
   "execution_count": 20,
   "id": "4824782b",
   "metadata": {},
   "outputs": [
    {
     "data": {
      "text/plain": [
       "0    London\n",
       "1    Berlin\n",
       "2    Warsaw\n",
       "3     Paris\n",
       "dtype: object"
      ]
     },
     "execution_count": 20,
     "metadata": {},
     "output_type": "execute_result"
    }
   ],
   "source": [
    "cities = ['London', 'Berlin', 'Warsaw', 'Paris']\n",
    "pd.Series(cities)"
   ]
  },
  {
   "cell_type": "code",
   "execution_count": 21,
   "id": "dea57851",
   "metadata": {},
   "outputs": [
    {
     "data": {
      "text/plain": [
       "0     2\n",
       "1     3\n",
       "2     5\n",
       "3     7\n",
       "4    11\n",
       "5    13\n",
       "6    17\n",
       "7    19\n",
       "dtype: int64"
      ]
     },
     "execution_count": 21,
     "metadata": {},
     "output_type": "execute_result"
    }
   ],
   "source": [
    "primeNumbers = (2,3,5,7,11,13,17,19)\n",
    "pd.Series(primeNumbers)"
   ]
  },
  {
   "cell_type": "code",
   "execution_count": 19,
   "id": "43b63e7d",
   "metadata": {},
   "outputs": [
    {
     "data": {
      "text/plain": [
       "0     True\n",
       "1     True\n",
       "2    False\n",
       "dtype: bool"
      ]
     },
     "execution_count": 19,
     "metadata": {},
     "output_type": "execute_result"
    }
   ],
   "source": [
    "logicalValues = [True, True, False]\n",
    "pd.Series(logicalValues)"
   ]
  },
  {
   "cell_type": "code",
   "execution_count": 17,
   "id": "056da077",
   "metadata": {},
   "outputs": [
    {
     "data": {
      "text/plain": [
       "{'Jaws': 1975,\n",
       " '1941': 1979,\n",
       " 'Indiana Jones and the Raiders of the Lost Ark': 1981,\n",
       " 'E.T. the Extra-Terrestral': 1982}"
      ]
     },
     "execution_count": 17,
     "metadata": {},
     "output_type": "execute_result"
    }
   ],
   "source": [
    "SpielbergFilmography = {\n",
    "    \"Jaws\" : 1975,\n",
    "    \"1941\" : 1979,\n",
    "    \"Indiana Jones and the Raiders of the Lost Ark\" : 1981,\n",
    "    \"E.T. the Extra-Terrestral\" : 1982\n",
    "}\n",
    "SpielbergFilmography"
   ]
  },
  {
   "cell_type": "code",
   "execution_count": 18,
   "id": "ad61f49e",
   "metadata": {},
   "outputs": [
    {
     "data": {
      "text/plain": [
       "Jaws                                             1975\n",
       "1941                                             1979\n",
       "Indiana Jones and the Raiders of the Lost Ark    1981\n",
       "E.T. the Extra-Terrestral                        1982\n",
       "dtype: int64"
      ]
     },
     "execution_count": 18,
     "metadata": {},
     "output_type": "execute_result"
    }
   ],
   "source": [
    "pd.Series(SpielbergFilmography)"
   ]
  },
  {
   "cell_type": "markdown",
   "id": "c1b5786d",
   "metadata": {},
   "source": [
    "# Zadania"
   ]
  },
  {
   "cell_type": "code",
   "execution_count": 3,
   "id": "ea4a701d",
   "metadata": {},
   "outputs": [],
   "source": [
    "import pandas as pd\n",
    "import numpy as np\n",
    "import matplotlib.pyplot as plt\n",
    "import math as math"
   ]
  },
  {
   "cell_type": "code",
   "execution_count": 8,
   "id": "0964db0c",
   "metadata": {
    "collapsed": true
   },
   "outputs": [
    {
     "data": {
      "text/plain": [
       "0       Monday\n",
       "1      Tuesday\n",
       "2    Wednesday\n",
       "3     Thursday\n",
       "4       Friday\n",
       "5     Saturday\n",
       "6       Sunday\n",
       "dtype: object"
      ]
     },
     "execution_count": 8,
     "metadata": {},
     "output_type": "execute_result"
    }
   ],
   "source": [
    "weekdays = [\"Monday\", \"Tuesday\", \"Wednesday\", \"Thursday\", \"Friday\", \"Saturday\", \"Sunday\"]\n",
    "weekdaysSeries = pd.Series(weekdays)\n",
    "weekdaysSeries"
   ]
  },
  {
   "cell_type": "code",
   "execution_count": 12,
   "id": "d2e4b9f4",
   "metadata": {
    "collapsed": true
   },
   "outputs": [
    {
     "data": {
      "text/plain": [
       "0    False\n",
       "1    False\n",
       "2    False\n",
       "3    False\n",
       "4    False\n",
       "5     True\n",
       "6     True\n",
       "dtype: bool"
      ]
     },
     "execution_count": 12,
     "metadata": {},
     "output_type": "execute_result"
    }
   ],
   "source": [
    "freeDays = [False, False, False, False, False, True, True]\n",
    "freeDaysSeries = pd.Series(freeDays)\n",
    "freeDaysSeries"
   ]
  },
  {
   "cell_type": "code",
   "execution_count": 15,
   "id": "20904de3",
   "metadata": {
    "collapsed": true
   },
   "outputs": [
    {
     "data": {
      "text/plain": [
       "New Year     2018-01-01\n",
       "Epiphany     2018-01-06\n",
       "Easter       2018-04-01\n",
       "dtype: object"
      ]
     },
     "execution_count": 15,
     "metadata": {},
     "output_type": "execute_result"
    }
   ],
   "source": [
    "holidays = {\n",
    "    \"New Year\" : \"2018-01-01\",\n",
    "    \"Epiphany \": \"2018-01-06\",\n",
    "    \"Easter\" : \"2018-04-01\"\n",
    "}\n",
    "holidaysSeries = pd.Series(holidays)\n",
    "holidaysSeries"
   ]
  },
  {
   "cell_type": "markdown",
   "id": "05879d9d",
   "metadata": {},
   "source": [
    "## Atrybuty Data Series"
   ]
  },
  {
   "cell_type": "code",
   "execution_count": 22,
   "id": "e8433050",
   "metadata": {
    "collapsed": true
   },
   "outputs": [],
   "source": [
    "import pandas as pd\n",
    "import numpy as np\n",
    "import matplotlib.pyplot as plt\n",
    "import math as math"
   ]
  },
  {
   "cell_type": "code",
   "execution_count": 24,
   "id": "8cef3368",
   "metadata": {
    "collapsed": true
   },
   "outputs": [],
   "source": [
    "cities = ['London', 'Berlin', 'Warsaw', 'Paris']\n",
    "citiesSeries = pd.Series(cities)\n",
    "\n",
    "citiesSeries.size  # sprawdza wielkość OUTPUT: 4\n",
    "\n",
    "citiesSeries.nbytes # sprawdza ilość wykorzystywanych bajtó OUTPUT : 32\n",
    "\n",
    "citiesSeries.is_unique # sprawdza czy rekordy są nikalne OUTPUT : True\n",
    "\n",
    "citiesSeries.index # Pokazuje w jaki sposób został stworzony index\n",
    "# OUTPUT: RangeIndex(start=0, stop=4, stop=1)\n",
    "\n",
    "citiesSeries.values\n",
    "\n",
    "\n",
    "citiesSeries.dtype  # Sprawdzamy jakimgo typu obiekty są przechowywane w Data Series\n",
    "\n",
    "citiesSeries.shape \n",
    "\n",
    "citiesSeries.axes # Pokazuje nam współrzędne elementów do których możemy się odwoływać\n",
    "\n",
    "monotonicList = [1,2,4,67,99]\n",
    "monotonicSeries = pd.Series(monotonicList)\n",
    "monotonicSeries\n",
    "\n",
    "monotonicSeries.is_monotonic_increasing\n",
    "\n",
    "monotonicSeries.is_monotonic_decreasing\n",
    "\n",
    "stringList = ['Cola', 'Redbull', 'Sprite']\n",
    "stringSeries = pd.Series(stringList)\n",
    "stringSeries\n",
    "\n",
    "stringSeries.is_monotonic_increasing"
   ]
  },
  {
   "cell_type": "markdown",
   "id": "e6e91b75",
   "metadata": {},
   "source": [
    "## Zadania"
   ]
  },
  {
   "cell_type": "code",
   "execution_count": 52,
   "id": "c3cb587c",
   "metadata": {},
   "outputs": [],
   "source": [
    "import pandas as pd\n",
    "import numpy as np\n",
    "import matplotlib.pyplot as plt\n",
    "import math as math"
   ]
  },
  {
   "cell_type": "code",
   "execution_count": 78,
   "id": "b5f746a8",
   "metadata": {},
   "outputs": [],
   "source": [
    "import random as rnd\n",
    "dataAsFloatList = []\n",
    "\n",
    "for i in range(100000):\n",
    "    dataAsFloatList.append(i*rnd.random())\n",
    "\n",
    "dataAsFloatSeries = pd.Series(dataAsFloatList)"
   ]
  },
  {
   "cell_type": "code",
   "execution_count": 81,
   "id": "2af6d1e2",
   "metadata": {},
   "outputs": [
    {
     "name": "stdout",
     "output_type": "stream",
     "text": [
      "dataAsFloatSeries\n",
      "size: \t 100000\n",
      "nbytes: \t 800000\n",
      "shape: \t (100000,)\n",
      "axes: \t [RangeIndex(start=0, stop=100000, step=1)]\n",
      "dtype: \t float64\n",
      "index: \t RangeIndex(start=0, stop=100000, step=1)\n",
      "is_unique: \t True\n",
      "is_monotonic: \t False\n"
     ]
    }
   ],
   "source": [
    "print('dataAsFloatSeries')\n",
    "print('size: \\t', dataAsFloatSeries.size)\n",
    "print('nbytes: \\t', dataAsFloatSeries.nbytes)\n",
    "print('shape: \\t', dataAsFloatSeries.shape)\n",
    "print('axes: \\t', dataAsFloatSeries.axes)\n",
    "print('dtype: \\t', dataAsFloatSeries.dtype)\n",
    "print('index: \\t', dataAsFloatSeries.index)\n",
    "print('is_unique: \\t', dataAsFloatSeries.is_unique)\n",
    "print('is_monotonic: \\t', dataAsFloatSeries.is_monotonic_increasing)"
   ]
  },
  {
   "cell_type": "code",
   "execution_count": 82,
   "id": "43f8babf",
   "metadata": {},
   "outputs": [
    {
     "name": "stdout",
     "output_type": "stream",
     "text": [
      "dataAsStringSeries\n",
      "size: \t 100000\n",
      "nbytes: \t 800000\n",
      "dtype: \t object\n"
     ]
    }
   ],
   "source": [
    "import random as rnd\n",
    "dataAsStringList = []\n",
    "for i in range(100000):\n",
    "    dataAsStringList.append(str(i*rnd.random()))\n",
    "    \n",
    "dataAsStringSeries = pd.Series(dataAsStringList)\n",
    "\n",
    "print('dataAsStringSeries')\n",
    "print('size: \\t',dataAsStringSeries.size)\n",
    "print('nbytes: \\t',dataAsStringSeries.nbytes)\n",
    "print('dtype: \\t',dataAsStringSeries.dtype)"
   ]
  },
  {
   "cell_type": "code",
   "execution_count": 83,
   "id": "ec553de8",
   "metadata": {},
   "outputs": [
    {
     "name": "stdout",
     "output_type": "stream",
     "text": [
      "memory_usage_dataAsFloatSeries: \t 800128\n",
      "memory_usage_dataAsStringSeries: \t 7435040\n"
     ]
    }
   ],
   "source": [
    "print('memory_usage_dataAsFloatSeries: \\t', dataAsFloatSeries.memory_usage(deep=True))\n",
    "print('memory_usage_dataAsStringSeries: \\t', dataAsStringSeries.memory_usage(deep=True))"
   ]
  },
  {
   "cell_type": "markdown",
   "id": "a015b951",
   "metadata": {},
   "source": [
    "# Metody Data Series"
   ]
  },
  {
   "cell_type": "code",
   "execution_count": 84,
   "id": "14961a0e",
   "metadata": {},
   "outputs": [],
   "source": [
    "import pandas as pd\n",
    "import numpy as np\n",
    "import matplotlib.pyplot as plt\n",
    "import math as math"
   ]
  },
  {
   "cell_type": "code",
   "execution_count": 85,
   "id": "5aac9b99",
   "metadata": {},
   "outputs": [
    {
     "data": {
      "text/plain": [
       "0     1\n",
       "1     2\n",
       "2     4\n",
       "3    67\n",
       "4    99\n",
       "dtype: int64"
      ]
     },
     "execution_count": 85,
     "metadata": {},
     "output_type": "execute_result"
    }
   ],
   "source": [
    "monotonicList = [1,2,4,67,99]\n",
    "monotonicSeries = pd.Series(monotonicList)\n",
    "monotonicSeries"
   ]
  },
  {
   "cell_type": "code",
   "execution_count": 100,
   "id": "9a25267c",
   "metadata": {},
   "outputs": [
    {
     "name": "stdout",
     "output_type": "stream",
     "text": [
      "suma: \t 173\n",
      "min: \t 1\n",
      "max: \t 99\n",
      "mean: \t 34.6\n",
      "count: \t 5\n",
      "size: \t 5\n",
      "product:  53064\n",
      "index: \t RangeIndex(start=0, stop=5, step=1)\n",
      "keys: \t RangeIndex(start=0, stop=5, step=1)\n",
      "values: \t [ 1  2  4 67 99]\n",
      "tolist: \t [1, 2, 4, 67, 99]\n"
     ]
    },
    {
     "data": {
      "text/plain": [
       "0     1\n",
       "1     2\n",
       "2     4\n",
       "3    67\n",
       "4    99\n",
       "dtype: int64"
      ]
     },
     "execution_count": 100,
     "metadata": {},
     "output_type": "execute_result"
    }
   ],
   "source": [
    "print(\"suma: \\t\", monotonicSeries.sum())\n",
    "print(\"min: \\t\", monotonicSeries.min())\n",
    "print(\"max: \\t\", monotonicSeries.max())\n",
    "print(\"mean: \\t\", monotonicSeries.mean())\n",
    "print(\"count: \\t\", monotonicSeries.count())\n",
    "print(\"size: \\t\", monotonicSeries.size)\n",
    "print(\"product: \", monotonicSeries.product())  # Bierze wszystkie liczby i mnoży przez siebie\n",
    "print(\"index: \\t\", monotonicSeries.index)\n",
    "print(\"keys: \\t\", monotonicSeries.keys())\n",
    "print(\"values: \\t\", monotonicSeries.values)\n",
    "print(\"tolist: \\t\", monotonicSeries.tolist())"
   ]
  },
  {
   "cell_type": "code",
   "execution_count": 103,
   "id": "393279f2",
   "metadata": {
    "collapsed": true
   },
   "outputs": [
    {
     "data": {
      "text/plain": [
       "0     11\n",
       "1     12\n",
       "2     14\n",
       "3     77\n",
       "4    109\n",
       "dtype: int64"
      ]
     },
     "execution_count": 103,
     "metadata": {},
     "output_type": "execute_result"
    }
   ],
   "source": [
    "monotonicSeries.add(10) # Metody nie modyfikują oryginalnej listy, tworzą jej kopie"
   ]
  },
  {
   "cell_type": "code",
   "execution_count": 102,
   "id": "ddd070ec",
   "metadata": {
    "collapsed": true
   },
   "outputs": [
    {
     "data": {
      "text/plain": [
       "0     1\n",
       "1     2\n",
       "2     4\n",
       "3    67\n",
       "4    99\n",
       "dtype: int64"
      ]
     },
     "execution_count": 102,
     "metadata": {},
     "output_type": "execute_result"
    }
   ],
   "source": [
    "monotonicSeries # lista nadal została nie zmieniona pomimo wykonanej metody .add(10)"
   ]
  },
  {
   "cell_type": "code",
   "execution_count": 105,
   "id": "671d76d7",
   "metadata": {
    "collapsed": true
   },
   "outputs": [
    {
     "data": {
      "text/plain": [
       "0     11\n",
       "1     12\n",
       "2     14\n",
       "3     77\n",
       "4    109\n",
       "dtype: int64"
      ]
     },
     "execution_count": 105,
     "metadata": {},
     "output_type": "execute_result"
    }
   ],
   "source": [
    "newSeries = monotonicSeries.add(10)\n",
    "newSeries"
   ]
  },
  {
   "cell_type": "code",
   "execution_count": 109,
   "id": "d8c12b9e",
   "metadata": {},
   "outputs": [
    {
     "data": {
      "text/plain": [
       "USD         USA\n",
       "EUR       Spain\n",
       "PLN      Poland\n",
       "EUR    Portugal\n",
       "EUR       Italy\n",
       "dtype: object"
      ]
     },
     "execution_count": 109,
     "metadata": {},
     "output_type": "execute_result"
    }
   ],
   "source": [
    "currencies = ['USD', 'EUR', 'PLN', 'EUR', 'EUR']\n",
    "countries = ['USA', 'Spain', 'Poland', 'Portugal', 'Italy']\n",
    "\n",
    "curSeries = pd.Series(countries, currencies)\n",
    "curSeries"
   ]
  },
  {
   "cell_type": "code",
   "execution_count": 111,
   "id": "428d488b",
   "metadata": {},
   "outputs": [
    {
     "data": {
      "text/plain": [
       "USD         USA\n",
       "EUR       Spain\n",
       "PLN      Poland\n",
       "EUR    Portugal\n",
       "EUR       Italy\n",
       "dtype: object"
      ]
     },
     "execution_count": 111,
     "metadata": {},
     "output_type": "execute_result"
    }
   ],
   "source": [
    "curSeries = pd.Series(data = countries, index = currencies)\n",
    "curSeries"
   ]
  },
  {
   "cell_type": "markdown",
   "id": "360d0f78",
   "metadata": {},
   "source": [
    "## Zadania"
   ]
  },
  {
   "cell_type": "code",
   "execution_count": 112,
   "id": "0a46111b",
   "metadata": {},
   "outputs": [],
   "source": [
    "import pandas as pd\n",
    "import numpy as np\n",
    "import matplotlib.pyplot as plt\n",
    "import math as math"
   ]
  },
  {
   "cell_type": "code",
   "execution_count": 131,
   "id": "2a3c8273",
   "metadata": {},
   "outputs": [
    {
     "name": "stdout",
     "output_type": "stream",
     "text": [
      "Shanghai    24183300\n",
      "Beijng      20794100\n",
      "Instabul    15030000\n",
      "dtype: int64\n",
      "\n",
      " sum: 60007400\n",
      "mean: 20002466.666666668\n",
      "index: Index(['Shanghai', 'Beijng', 'Instabul'], dtype='object')\n",
      "index: Index(['Shanghai', 'Beijng', 'Instabul'], dtype='object')\n",
      "values: [24183300 20794100 15030000]\n"
     ]
    }
   ],
   "source": [
    "cities = ['Shanghai', 'Beijng', 'Instabul']\n",
    "population = [24183300, 20794100, 15030000]\n",
    "citypop = pd.Series(data = population, index = cities)\n",
    "print(citypop)\n",
    "print(\"\\n sum:\", citypop.sum())\n",
    "print(\"mean:\", citypop.mean())\n",
    "print(\"index:\", citypop.index)\n",
    "print(\"index:\", citypop.keys())\n",
    "print(\"values:\", citypop.values)"
   ]
  },
  {
   "cell_type": "markdown",
   "id": "b02d2b83",
   "metadata": {},
   "source": [
    "# Filtrowanie danych"
   ]
  },
  {
   "cell_type": "code",
   "execution_count": 157,
   "id": "1219b4c2",
   "metadata": {},
   "outputs": [],
   "source": [
    "numbers = [1,2,3,11,12,13]\n",
    "numbers\n",
    "numSeries = pd.Series(numbers)"
   ]
  },
  {
   "cell_type": "code",
   "execution_count": 156,
   "id": "b1a82599",
   "metadata": {},
   "outputs": [
    {
     "name": "stdout",
     "output_type": "stream",
     "text": [
      "0     1\n",
      "1     2\n",
      "2     3\n",
      "3    11\n",
      "4    12\n",
      "5    13\n",
      "dtype: int64\n",
      "\n",
      " 0    False\n",
      "1    False\n",
      "2    False\n",
      "3     True\n",
      "4     True\n",
      "5     True\n",
      "dtype: bool\n",
      "\n",
      " 0     NaN\n",
      "1     NaN\n",
      "2     NaN\n",
      "3    11.0\n",
      "4    12.0\n",
      "5    13.0\n",
      "dtype: float64\n",
      "\n",
      " 0    -1\n",
      "1    -1\n",
      "2    -1\n",
      "3    11\n",
      "4    12\n",
      "5    13\n",
      "dtype: int64\n"
     ]
    }
   ],
   "source": [
    "# numbers > 10    # TypeError\n",
    "\n",
    "print(numSeries)\n",
    "print(\"\\n\", numSeries > 10)\n",
    "\n",
    "print(\"\\n\", numSeries.where(numSeries > 10))\n",
    "print(\"\\n\", numSeries.where(numSeries > 10, other = -1))"
   ]
  },
  {
   "cell_type": "code",
   "execution_count": 154,
   "id": "46c5601d",
   "metadata": {
    "collapsed": true
   },
   "outputs": [
    {
     "name": "stdout",
     "output_type": "stream",
     "text": [
      "\n",
      " 3    11.0\n",
      "4    12.0\n",
      "5    13.0\n",
      "dtype: float64\n",
      "\n",
      " 3    11.0\n",
      "4    12.0\n",
      "5    13.0\n",
      "dtype: float64\n"
     ]
    },
    {
     "data": {
      "text/plain": [
       "3    11.0\n",
       "4    12.0\n",
       "5    13.0\n",
       "dtype: float64"
      ]
     },
     "execution_count": 154,
     "metadata": {},
     "output_type": "execute_result"
    }
   ],
   "source": [
    "print(\"\\n\", numSeries.where(numSeries > 10).dropna())\n",
    "print(\"\\n\", numSeries)\n",
    "numSeries.where(numSeries > 10, inplace=True)\n",
    "numSeries\n",
    "numSeries.dropna(inplace = True)\n",
    "numSeries"
   ]
  },
  {
   "cell_type": "code",
   "execution_count": 159,
   "id": "e827f46f",
   "metadata": {
    "collapsed": true
   },
   "outputs": [
    {
     "data": {
      "text/plain": [
       "3    11.0\n",
       "4    12.0\n",
       "5    13.0\n",
       "dtype: float64"
      ]
     },
     "execution_count": 159,
     "metadata": {},
     "output_type": "execute_result"
    }
   ],
   "source": [
    "numbers = [1,2,3,11,12,13]\n",
    "numbers\n",
    "numSeries = pd.Series(numbers)\n",
    "\n",
    "numSeries.where(numSeries > 10, inplace = True)\n",
    "numSeries.dropna(inplace = True)\n",
    "numSeries"
   ]
  },
  {
   "cell_type": "code",
   "execution_count": 163,
   "id": "32b56cd7",
   "metadata": {},
   "outputs": [
    {
     "data": {
      "text/plain": [
       "0     1\n",
       "2     3\n",
       "4    12\n",
       "dtype: int64"
      ]
     },
     "execution_count": 163,
     "metadata": {},
     "output_type": "execute_result"
    }
   ],
   "source": [
    "numbers = [1,2,3,11,12,13]\n",
    "numbers\n",
    "numSeries = pd.Series(numbers)\n",
    "\n",
    "numSeries.filter(items = [0,2,4])"
   ]
  },
  {
   "cell_type": "markdown",
   "id": "7e8b80f7",
   "metadata": {},
   "source": [
    "# Zadania"
   ]
  },
  {
   "cell_type": "code",
   "execution_count": 1,
   "id": "4d0ef873",
   "metadata": {},
   "outputs": [],
   "source": [
    "import pandas as pd\n",
    "import numpy as np\n",
    "import matplotlib.pyplot as plt\n",
    "import math as math"
   ]
  },
  {
   "cell_type": "code",
   "execution_count": 65,
   "id": "e44efe07",
   "metadata": {},
   "outputs": [
    {
     "data": {
      "text/plain": [
       "do 6             14\n",
       "7-14            334\n",
       "15-17           312\n",
       "18-24          5823\n",
       "25-39          9491\n",
       "40-59          7486\n",
       "60 i więcej    4343\n",
       "dtype: int64"
      ]
     },
     "execution_count": 65,
     "metadata": {},
     "output_type": "execute_result"
    }
   ],
   "source": [
    "ix = [\"do 6\", \"7-14\", \"15-17\", \"18-24\", \"25-39\", \"40-59\", \"60 i więcej\"]\n",
    "val = [14 ,334,312,5823,9491,7486,4343]\n",
    "\n",
    "incidents = pd.Series(data = val, index = ix)\n",
    "incidents"
   ]
  },
  {
   "cell_type": "code",
   "execution_count": 45,
   "id": "c407189c",
   "metadata": {
    "collapsed": true
   },
   "outputs": [
    {
     "name": "stdout",
     "output_type": "stream",
     "text": [
      "zad3: \n",
      " do 6              NaN\n",
      "7-14              NaN\n",
      "15-17             NaN\n",
      "18-24          5823.0\n",
      "25-39          9491.0\n",
      "40-59          7486.0\n",
      "60 i więcej    4343.0\n",
      "dtype: float64\n",
      "\n",
      " zad4: \n",
      " 18-24          5823.0\n",
      "25-39          9491.0\n",
      "40-59          7486.0\n",
      "60 i więcej    4343.0\n",
      "dtype: float64\n"
     ]
    }
   ],
   "source": [
    "print(\"zad3: \\n\", incidents.where(incidents > 1000))\n",
    "\n",
    "print(\"\\n zad4: \\n\", incidents.where(incidents > 1000).dropna())"
   ]
  },
  {
   "cell_type": "code",
   "execution_count": 46,
   "id": "4c60ef08",
   "metadata": {
    "collapsed": true
   },
   "outputs": [
    {
     "data": {
      "text/plain": [
       "18-24          5823.0\n",
       "25-39          9491.0\n",
       "40-59          7486.0\n",
       "60 i więcej    4343.0\n",
       "dtype: float64"
      ]
     },
     "execution_count": 46,
     "metadata": {},
     "output_type": "execute_result"
    }
   ],
   "source": [
    "incident1000 = incidents.where(incidents > 1000).dropna()\n",
    "incident1000"
   ]
  },
  {
   "cell_type": "code",
   "execution_count": 57,
   "id": "82b44c71",
   "metadata": {},
   "outputs": [
    {
     "data": {
      "text/plain": [
       "do 6             14\n",
       "7-14            334\n",
       "15-17           312\n",
       "18-24          5823\n",
       "25-39          9491\n",
       "40-59          7486\n",
       "60 i więcej    4343\n",
       "dtype: int64"
      ]
     },
     "execution_count": 57,
     "metadata": {},
     "output_type": "execute_result"
    }
   ],
   "source": [
    "incidents"
   ]
  },
  {
   "cell_type": "code",
   "execution_count": 52,
   "id": "21687633",
   "metadata": {},
   "outputs": [
    {
     "data": {
      "text/plain": [
       "18-24          5823\n",
       "25-39          9491\n",
       "40-59          7486\n",
       "60 i więcej    4343\n",
       "dtype: int64"
      ]
     },
     "execution_count": 52,
     "metadata": {},
     "output_type": "execute_result"
    }
   ],
   "source": [
    "incidents.filter(items = [\"18-24\", \"25-39\", \"40-59\", \"60 i więcej\"])"
   ]
  },
  {
   "cell_type": "code",
   "execution_count": 55,
   "id": "ca77a64c",
   "metadata": {},
   "outputs": [
    {
     "data": {
      "text/plain": [
       "18-24          5823.0\n",
       "25-39          9491.0\n",
       "40-59          7486.0\n",
       "60 i więcej    4343.0\n",
       "dtype: float64"
      ]
     },
     "execution_count": 55,
     "metadata": {},
     "output_type": "execute_result"
    }
   ],
   "source": [
    "incident1000.filter(items = [\"18-24\", \"25-39\", \"40-59\", \"60 i więcej\"])"
   ]
  },
  {
   "cell_type": "code",
   "execution_count": 66,
   "id": "83c25e30",
   "metadata": {},
   "outputs": [
    {
     "data": {
      "text/plain": [
       "do 6      14.0\n",
       "7-14     334.0\n",
       "15-17    312.0\n",
       "dtype: float64"
      ]
     },
     "execution_count": 66,
     "metadata": {},
     "output_type": "execute_result"
    }
   ],
   "source": [
    "incidents.where(incidents <= 1000, inplace = True)\n",
    "incidents.dropna(inplace = True)\n",
    "incidents"
   ]
  },
  {
   "cell_type": "markdown",
   "id": "01900915",
   "metadata": {},
   "source": [
    "# Bardziej zaawansowane filtrowanie"
   ]
  },
  {
   "cell_type": "markdown",
   "id": "b5c1d74a",
   "metadata": {},
   "source": [
    "# Zadania"
   ]
  },
  {
   "cell_type": "code",
   "execution_count": 67,
   "id": "9d71cf5b",
   "metadata": {},
   "outputs": [],
   "source": [
    "import pandas as pd \n",
    "import numpy as np\n",
    "import matplotlib.pyplot as plt\n",
    "import math as math"
   ]
  },
  {
   "cell_type": "code",
   "execution_count": 124,
   "id": "13afa4be",
   "metadata": {},
   "outputs": [],
   "source": [
    "namesList = ['Albania','Austria','Belarus',\n",
    "    'Belgium','Bulgaria','Croatia','Cyprus','Czech Republic','Denmark','Estonia',\n",
    "    'Finland','France','Germany','Greece','Hungary','Iceland','Ireland','Italy',\n",
    "    'Latvia','Lithuania','Luxembourg','Macedonia','Malta','Montenegro','Netherlands',\n",
    "    'Norway','Poland','Portugal','Romania','Russia','Serbia','Slovenia','Spain', 'Sweden',\n",
    "    'Switzerland','United Kingdom','Turkey','Ukraine']\n",
    "namesSeries = pd.Series(namesList)\n",
    "\n",
    "energy2010List = [1947,8347,3564,8369,4560,3814,4623,6348,6328,6506,16483,7736,7264,5318,3876,\n",
    "51440,5911,5494,3230,3471,16830,3521,4171,5420,7010,24891,3797,4959,2551,\n",
    "6410,4359,6521,5707,14934,8175,2498,3550,5701]\n",
    "energy2010Series = pd.Series(energy2010List)\n",
    "\n",
    "energy2012List = [2118,8507,3698,7987,4762,3819,4057,6305,6039,6689,15687,7344,7270,5511,3919,\n",
    "53203,5665,5398,3588,3608,14696,3626,4761,5416,6871,23658,3899,4736,2604,\n",
    "6617,4387,6778,5573,14290,7886,2794,3641,5452]\n",
    "\n",
    "energy2012Series = pd.Series(energy2012List)"
   ]
  },
  {
   "cell_type": "code",
   "execution_count": 125,
   "id": "18c0fcab",
   "metadata": {},
   "outputs": [],
   "source": [
    "mean2010 = energy2010Series.mean()\n",
    "\n",
    "mean2012 = energy2012Seires.mean()"
   ]
  },
  {
   "cell_type": "code",
   "execution_count": 126,
   "id": "2525e2b1",
   "metadata": {},
   "outputs": [],
   "source": [
    "filterAboveMean2010 = energy2010Series > mean2010\n",
    "filterAboveMean2012 = energy2012Seires > mean2012"
   ]
  },
  {
   "cell_type": "code",
   "execution_count": 127,
   "id": "e2ded0d0",
   "metadata": {
    "collapsed": true
   },
   "outputs": [
    {
     "data": {
      "text/plain": [
       "1         Austria\n",
       "3         Belgium\n",
       "10        Finland\n",
       "15        Iceland\n",
       "20     Luxembourg\n",
       "25         Norway\n",
       "33         Sweden\n",
       "34    Switzerland\n",
       "dtype: object"
      ]
     },
     "execution_count": 127,
     "metadata": {},
     "output_type": "execute_result"
    }
   ],
   "source": [
    "namesSeries.where(filterAboveMean2010 & filterAboveMean2012).dropna()"
   ]
  },
  {
   "cell_type": "code",
   "execution_count": 128,
   "id": "10271b16",
   "metadata": {},
   "outputs": [
    {
     "data": {
      "text/plain": [
       "Series([], dtype: object)"
      ]
     },
     "execution_count": 128,
     "metadata": {},
     "output_type": "execute_result"
    }
   ],
   "source": [
    "filterBelowMean2010 = energy2010Series < mean2010\n",
    "namesSeries.where(filterBelowMean2010 & filterAboveMean2012).dropna()"
   ]
  },
  {
   "cell_type": "markdown",
   "id": "21af8b32",
   "metadata": {},
   "source": [
    "# Import danych do obiektu Series"
   ]
  },
  {
   "cell_type": "code",
   "execution_count": 1,
   "id": "9ba55647",
   "metadata": {},
   "outputs": [],
   "source": [
    "import pandas as pd\n",
    "import numpy as np\n",
    "import matplotlib.pyplot as plt\n",
    "import math as math"
   ]
  },
  {
   "cell_type": "code",
   "execution_count": 11,
   "id": "254e7c57",
   "metadata": {},
   "outputs": [
    {
     "data": {
      "text/plain": [
       "pandas.core.frame.DataFrame"
      ]
     },
     "execution_count": 11,
     "metadata": {},
     "output_type": "execute_result"
    }
   ],
   "source": [
    "obj = pd.read_csv(\"./data/pokemon.csv\")\n",
    "type(obj)"
   ]
  },
  {
   "cell_type": "code",
   "execution_count": 14,
   "id": "13def29c",
   "metadata": {},
   "outputs": [
    {
     "data": {
      "text/plain": [
       "pandas.core.frame.DataFrame"
      ]
     },
     "execution_count": 14,
     "metadata": {},
     "output_type": "execute_result"
    }
   ],
   "source": [
    "obj = pd.read_csv(\"./data/pokemon.csv\", usecols = ['Name'])\n",
    "type(obj)"
   ]
  },
  {
   "cell_type": "code",
   "execution_count": 22,
   "id": "d26b8ff2",
   "metadata": {
    "collapsed": true
   },
   "outputs": [
    {
     "name": "stdout",
     "output_type": "stream",
     "text": [
      "0                  Bulbasaur\n",
      "1                    Ivysaur\n",
      "2                   Venusaur\n",
      "3      VenusaurMega Venusaur\n",
      "4                 Charmander\n",
      "               ...          \n",
      "795                  Diancie\n",
      "796      DiancieMega Diancie\n",
      "797      HoopaHoopa Confined\n",
      "798       HoopaHoopa Unbound\n",
      "799                Volcanion\n",
      "Name: Name, Length: 800, dtype: object\n"
     ]
    },
    {
     "data": {
      "text/plain": [
       "pandas.core.series.Series"
      ]
     },
     "execution_count": 22,
     "metadata": {},
     "output_type": "execute_result"
    }
   ],
   "source": [
    "obj = pd.read_csv(\"./data/pokemon.csv\", usecols = ['Name']).squeeze(\"columns\")\n",
    "print(obj)\n",
    "type(obj)"
   ]
  },
  {
   "cell_type": "code",
   "execution_count": 24,
   "id": "6b448889",
   "metadata": {
    "collapsed": true
   },
   "outputs": [
    {
     "data": {
      "text/plain": [
       "0       45\n",
       "1       60\n",
       "2       80\n",
       "3       80\n",
       "4       65\n",
       "      ... \n",
       "795     50\n",
       "796    110\n",
       "797     70\n",
       "798     80\n",
       "799     70\n",
       "Name: Speed, Length: 800, dtype: int64"
      ]
     },
     "execution_count": 24,
     "metadata": {},
     "output_type": "execute_result"
    }
   ],
   "source": [
    "speed = pd.read_csv(\"./data/pokemon.csv\", usecols = ['Speed']).squeeze(\"columns\")\n",
    "speed"
   ]
  },
  {
   "cell_type": "code",
   "execution_count": 26,
   "id": "5d5b6484",
   "metadata": {
    "collapsed": true
   },
   "outputs": [
    {
     "data": {
      "text/plain": [
       "pandas.core.frame.DataFrame"
      ]
     },
     "execution_count": 26,
     "metadata": {},
     "output_type": "execute_result"
    }
   ],
   "source": [
    "dataFromClipboard = pd.read_clipboard(sep = ',')\n",
    "dataFromClipboard\n",
    "type(dataFromClipboard)"
   ]
  },
  {
   "cell_type": "code",
   "execution_count": 29,
   "id": "4a14cc9e",
   "metadata": {
    "collapsed": true
   },
   "outputs": [
    {
     "name": "stdout",
     "output_type": "stream",
     "text": [
      "0                  Bulbasaur\n",
      "1                    Ivysaur\n",
      "2                   Venusaur\n",
      "3      VenusaurMega Venusaur\n",
      "4                 Charmander\n",
      "               ...          \n",
      "795                  Diancie\n",
      "796      DiancieMega Diancie\n",
      "797      HoopaHoopa Confined\n",
      "798       HoopaHoopa Unbound\n",
      "799                Volcanion\n",
      "Name: Name, Length: 800, dtype: object\n"
     ]
    },
    {
     "data": {
      "text/plain": [
       "pandas.core.series.Series"
      ]
     },
     "execution_count": 29,
     "metadata": {},
     "output_type": "execute_result"
    }
   ],
   "source": [
    "oneSeries = dataFromClipboard['Name']\n",
    "print(oneSeries)\n",
    "type(oneSeries)"
   ]
  },
  {
   "cell_type": "markdown",
   "id": "d743bdfe",
   "metadata": {},
   "source": [
    "- .head()\n",
    "- .tail()"
   ]
  },
  {
   "cell_type": "markdown",
   "id": "c82aaaea",
   "metadata": {},
   "source": [
    "# Zadania\n"
   ]
  },
  {
   "cell_type": "code",
   "execution_count": 36,
   "id": "313cee38",
   "metadata": {
    "collapsed": true
   },
   "outputs": [
    {
     "data": {
      "text/plain": [
       "51382                                      Master's degree\n",
       "51383               I never completed any formal education\n",
       "51384                                    Bachelor's degree\n",
       "51385                                      Master's degree\n",
       "51386    Some college/university study without earning ...\n",
       "51387                                    Bachelor's degree\n",
       "51388                                      Master's degree\n",
       "51389    Some college/university study without earning ...\n",
       "51390                                    Bachelor's degree\n",
       "51391                                    Bachelor's degree\n",
       "Name: FormalEducation, dtype: object"
      ]
     },
     "execution_count": 36,
     "metadata": {},
     "output_type": "execute_result"
    }
   ],
   "source": [
    "education = pd.read_csv(\"./data/StackOverflowDeveloperSurvey.csv\", \n",
    "                        usecols = [\"FormalEducation\"])\n",
    "type(education)\n",
    "education.head()\n",
    "education = pd.read_csv(\"./data/StackOverflowDeveloperSurvey.csv\", \n",
    "                        usecols = [\"FormalEducation\"]).squeeze()\n",
    "type(education)\n",
    "education.tail(10)"
   ]
  },
  {
   "cell_type": "code",
   "execution_count": 21,
   "id": "316bd8c8",
   "metadata": {},
   "outputs": [
    {
     "data": {
      "text/plain": [
       "0     United States\n",
       "1    United Kingdom\n",
       "2    United Kingdom\n",
       "3     United States\n",
       "4       Switzerland\n",
       "Name: Country, dtype: object"
      ]
     },
     "execution_count": 21,
     "metadata": {},
     "output_type": "execute_result"
    }
   ],
   "source": [
    "allinfo = pd.read_csv(\"./data/StackOverflowDeveloperSurvey.csv\")\n",
    "country = allinfo[\"Country\"]\n",
    "country.head()"
   ]
  },
  {
   "cell_type": "code",
   "execution_count": 40,
   "id": "bdd2a505",
   "metadata": {
    "collapsed": true
   },
   "outputs": [
    {
     "data": {
      "text/plain": [
       "0     True\n",
       "1    False\n",
       "2    False\n",
       "3     True\n",
       "4    False\n",
       "Name: Country, dtype: bool"
      ]
     },
     "execution_count": 40,
     "metadata": {},
     "output_type": "execute_result"
    }
   ],
   "source": [
    "filterOnlyUSA = country == \"United States\"\n",
    "filterOnlyUSA.head()"
   ]
  },
  {
   "cell_type": "code",
   "execution_count": 43,
   "id": "b177903e",
   "metadata": {
    "collapsed": true
   },
   "outputs": [
    {
     "data": {
      "text/plain": [
       "0              Secondary school\n",
       "3               Doctoral degree\n",
       "6               Master's degree\n",
       "10            Bachelor's degree\n",
       "15    Primary/elementary school\n",
       "17            Bachelor's degree\n",
       "18            Bachelor's degree\n",
       "25              Master's degree\n",
       "27            Bachelor's degree\n",
       "29            Bachelor's degree\n",
       "Name: FormalEducation, dtype: object"
      ]
     },
     "execution_count": 43,
     "metadata": {},
     "output_type": "execute_result"
    }
   ],
   "source": [
    "education.where(filterOnlyUSA).dropna().head(10)"
   ]
  },
  {
   "cell_type": "markdown",
   "id": "66bf5391",
   "metadata": {},
   "source": [
    "# Standardowe metody Pythona a obiekty PANDAS"
   ]
  },
  {
   "cell_type": "markdown",
   "id": "cf535e48",
   "metadata": {},
   "source": [
    "- type()\n",
    "- len()\n",
    "- head()\n",
    "- tail()\n",
    "- sorted(pok.head(5))\n",
    "- type(sorted(pok.head(5)))\n",
    "- list(pok.head())\n",
    "- type(list(pok.head())\n",
    "- dict(pok.head())\n",
    "- type(dict(pok.head()))\n",
    "- pok.name = 'Name of pokemon'"
   ]
  },
  {
   "cell_type": "markdown",
   "id": "4bccade7",
   "metadata": {},
   "source": [
    "# Zadania"
   ]
  },
  {
   "cell_type": "code",
   "execution_count": 58,
   "id": "bb7e6229",
   "metadata": {},
   "outputs": [
    {
     "data": {
      "text/plain": [
       "2     113750.0\n",
       "14    100000.0\n",
       "17    130000.0\n",
       "18     82500.0\n",
       "22    100764.0\n",
       "Name: Salary, dtype: float64"
      ]
     },
     "execution_count": 58,
     "metadata": {},
     "output_type": "execute_result"
    }
   ],
   "source": [
    "salary = pd.read_csv(\"./data/StackOverflowDeveloperSurvey.csv\", usecols = ['Salary']).squeeze().dropna()\n",
    "salary.head()"
   ]
  },
  {
   "cell_type": "code",
   "execution_count": 59,
   "id": "b2f77bb2",
   "metadata": {},
   "outputs": [
    {
     "data": {
      "text/plain": [
       "12891"
      ]
     },
     "execution_count": 59,
     "metadata": {},
     "output_type": "execute_result"
    }
   ],
   "source": [
    "len(salary) # 12 891"
   ]
  },
  {
   "cell_type": "code",
   "execution_count": 73,
   "id": "e0a26929",
   "metadata": {},
   "outputs": [
    {
     "name": "stdout",
     "output_type": "stream",
     "text": [
      "salary min:  0.0\n",
      "\n",
      "salary max:  197000.0\n"
     ]
    }
   ],
   "source": [
    "print(\"salary min: \", min(salary))\n",
    "print(\"\\nsalary max: \", max(salary))"
   ]
  },
  {
   "cell_type": "code",
   "execution_count": 61,
   "id": "ba0dd869",
   "metadata": {},
   "outputs": [
    {
     "data": {
      "text/plain": [
       "[113750.0, 100000.0, 130000.0, 82500.0, 100764.0]"
      ]
     },
     "execution_count": 61,
     "metadata": {},
     "output_type": "execute_result"
    }
   ],
   "source": [
    "list(salary.head(5))"
   ]
  },
  {
   "cell_type": "code",
   "execution_count": 62,
   "id": "90a822f0",
   "metadata": {},
   "outputs": [
    {
     "data": {
      "text/plain": [
       "{2: 113750.0, 14: 100000.0, 17: 130000.0, 18: 82500.0, 22: 100764.0}"
      ]
     },
     "execution_count": 62,
     "metadata": {},
     "output_type": "execute_result"
    }
   ],
   "source": [
    "dict(salary.head(5))"
   ]
  },
  {
   "cell_type": "code",
   "execution_count": 71,
   "id": "33dfbdf0",
   "metadata": {},
   "outputs": [
    {
     "data": {
      "text/plain": [
       "[197000.0, 195000.0, 195000.0, 195000.0, 195000.0]"
      ]
     },
     "execution_count": 71,
     "metadata": {},
     "output_type": "execute_result"
    }
   ],
   "source": [
    "listSalarySorted = list(sorted(salary, reverse = True))\n",
    "listSalarySorted[:5]"
   ]
  },
  {
   "cell_type": "code",
   "execution_count": 72,
   "id": "ed06c348",
   "metadata": {
    "collapsed": true
   },
   "outputs": [
    {
     "data": {
      "text/plain": [
       "2     113750.0\n",
       "14    100000.0\n",
       "17    130000.0\n",
       "18     82500.0\n",
       "22    100764.0\n",
       "Name: Salary of a person, dtype: float64"
      ]
     },
     "execution_count": 72,
     "metadata": {},
     "output_type": "execute_result"
    }
   ],
   "source": [
    "salary.name = 'Salary of a person'\n",
    "salary.head()"
   ]
  },
  {
   "cell_type": "markdown",
   "id": "0619e88c",
   "metadata": {},
   "source": [
    "# Sortowanie danych w data series"
   ]
  },
  {
   "cell_type": "code",
   "execution_count": 34,
   "id": "f28813ae",
   "metadata": {
    "collapsed": true
   },
   "outputs": [
    {
     "data": {
      "text/plain": [
       "0                Bulbasaur\n",
       "1                  Ivysaur\n",
       "2                 Venusaur\n",
       "3    VenusaurMega Venusaur\n",
       "4               Charmander\n",
       "Name: Name, dtype: object"
      ]
     },
     "execution_count": 34,
     "metadata": {},
     "output_type": "execute_result"
    }
   ],
   "source": [
    "pok = pd.read_csv('./data/pokemon.csv', usecols = ['Name']).squeeze(\"columns\")\n",
    "pok.head()"
   ]
  },
  {
   "cell_type": "code",
   "execution_count": 38,
   "id": "25e16579",
   "metadata": {
    "collapsed": true
   },
   "outputs": [
    {
     "data": {
      "text/plain": [
       "510                  Abomasnow\n",
       "511    AbomasnowMega Abomasnow\n",
       "68                        Abra\n",
       "392                      Absol\n",
       "393            AbsolMega Absol\n",
       "Name: Name, dtype: object"
      ]
     },
     "execution_count": 38,
     "metadata": {},
     "output_type": "execute_result"
    }
   ],
   "source": [
    "pok.sort_values().head()"
   ]
  },
  {
   "cell_type": "code",
   "execution_count": 40,
   "id": "aadb9a95",
   "metadata": {
    "collapsed": true
   },
   "outputs": [
    {
     "data": {
      "text/plain": [
       "794    Zygarde50% Forme\n",
       "695            Zweilous\n",
       "46                Zubat\n",
       "631               Zorua\n",
       "632             Zoroark\n",
       "Name: Name, dtype: object"
      ]
     },
     "execution_count": 40,
     "metadata": {},
     "output_type": "execute_result"
    }
   ],
   "source": [
    "pok.sort_values(ascending = False).head()"
   ]
  },
  {
   "cell_type": "code",
   "execution_count": 41,
   "id": "d50479a0",
   "metadata": {
    "collapsed": true
   },
   "outputs": [
    {
     "data": {
      "text/plain": [
       "0                Bulbasaur\n",
       "1                  Ivysaur\n",
       "2                 Venusaur\n",
       "3    VenusaurMega Venusaur\n",
       "4               Charmander\n",
       "Name: Name, dtype: object"
      ]
     },
     "execution_count": 41,
     "metadata": {},
     "output_type": "execute_result"
    }
   ],
   "source": [
    "pok.head()"
   ]
  },
  {
   "cell_type": "code",
   "execution_count": 43,
   "id": "d621ab7e",
   "metadata": {
    "collapsed": true
   },
   "outputs": [
    {
     "data": {
      "text/plain": [
       "0                Bulbasaur\n",
       "1                  Ivysaur\n",
       "2                 Venusaur\n",
       "3    VenusaurMega Venusaur\n",
       "4               Charmander\n",
       "Name: Name, dtype: object"
      ]
     },
     "execution_count": 43,
     "metadata": {},
     "output_type": "execute_result"
    }
   ],
   "source": [
    "pok.sort_index().head()"
   ]
  },
  {
   "cell_type": "code",
   "execution_count": 46,
   "id": "521a15c4",
   "metadata": {
    "collapsed": true
   },
   "outputs": [
    {
     "data": {
      "text/plain": [
       "799              Volcanion\n",
       "798     HoopaHoopa Unbound\n",
       "797    HoopaHoopa Confined\n",
       "796    DiancieMega Diancie\n",
       "795                Diancie\n",
       "Name: Name, dtype: object"
      ]
     },
     "execution_count": 46,
     "metadata": {},
     "output_type": "execute_result"
    }
   ],
   "source": [
    "pok = pok.sort_index(ascending = False)\n",
    "pok.head()"
   ]
  },
  {
   "cell_type": "markdown",
   "id": "631069bf",
   "metadata": {},
   "source": [
    "# Zadania"
   ]
  },
  {
   "cell_type": "code",
   "execution_count": 75,
   "id": "a1be49b3",
   "metadata": {},
   "outputs": [
    {
     "data": {
      "text/plain": [
       "2     113750.0\n",
       "14    100000.0\n",
       "17    130000.0\n",
       "18     82500.0\n",
       "22    100764.0\n",
       "Name: Salary, dtype: float64"
      ]
     },
     "execution_count": 75,
     "metadata": {},
     "output_type": "execute_result"
    }
   ],
   "source": [
    "salary = pd.read_csv(\"./data/StackOverflowDeveloperSurvey.csv\", usecols= ['Salary']).dropna().squeeze()\n",
    "salary.head()"
   ]
  },
  {
   "cell_type": "code",
   "execution_count": 83,
   "id": "42c96aa9",
   "metadata": {},
   "outputs": [
    {
     "name": "stdout",
     "output_type": "stream",
     "text": [
      "Descending: \n",
      " 31600    197000.0\n",
      "27943    195000.0\n",
      "6743     195000.0\n",
      "18237    195000.0\n",
      "41398    195000.0\n",
      "Name: Salary, dtype: float64\n",
      "\n",
      "Ascending: \n",
      " 51144    0.0\n",
      "23953    0.0\n",
      "23907    0.0\n",
      "44841    0.0\n",
      "2951     0.0\n",
      "Name: Salary, dtype: float64\n"
     ]
    }
   ],
   "source": [
    "print(\"Descending: \\n\", salary.sort_values(ascending= False).head())\n",
    "print(\"\\nAscending: \\n\", salary.sort_values().head())"
   ]
  },
  {
   "cell_type": "code",
   "execution_count": 92,
   "id": "273ffd54",
   "metadata": {},
   "outputs": [
    {
     "data": {
      "text/plain": [
       "31600    197000.0\n",
       "27943    195000.0\n",
       "6743     195000.0\n",
       "18237    195000.0\n",
       "41398    195000.0\n",
       "Name: Salary, dtype: float64"
      ]
     },
     "execution_count": 92,
     "metadata": {},
     "output_type": "execute_result"
    }
   ],
   "source": [
    "A = salary.copy()\n",
    "A.sort_values(inplace=True,ascending=False)\n",
    "A.head()"
   ]
  },
  {
   "cell_type": "code",
   "execution_count": 93,
   "id": "1c345f9f",
   "metadata": {
    "collapsed": true
   },
   "outputs": [
    {
     "data": {
      "text/plain": [
       "51390     40000.000000\n",
       "51387     58000.000000\n",
       "51382     32258.064516\n",
       "51378    107526.881720\n",
       "51371     74193.548387\n",
       "Name: Salary, dtype: float64"
      ]
     },
     "execution_count": 93,
     "metadata": {},
     "output_type": "execute_result"
    }
   ],
   "source": [
    "salary.sort_index(ascending = False).head()"
   ]
  },
  {
   "cell_type": "code",
   "execution_count": 111,
   "id": "a2e5444f",
   "metadata": {},
   "outputs": [
    {
     "data": {
      "text/plain": [
       "31600    197000.0\n",
       "27943    195000.0\n",
       "6743     195000.0\n",
       "18237    195000.0\n",
       "41398    195000.0\n",
       "           ...   \n",
       "22488    170000.0\n",
       "41861    170000.0\n",
       "21133    170000.0\n",
       "6659     170000.0\n",
       "13235    170000.0\n",
       "Name: Salary, Length: 100, dtype: float64"
      ]
     },
     "execution_count": 111,
     "metadata": {},
     "output_type": "execute_result"
    }
   ],
   "source": [
    "maxSalaries = salary.sort_values(ascending = False).head(100)\n",
    "maxSalaries"
   ]
  },
  {
   "cell_type": "code",
   "execution_count": 112,
   "id": "cf0ebcb6",
   "metadata": {},
   "outputs": [
    {
     "data": {
      "text/plain": [
       "51144      0.000000\n",
       "23953      0.000000\n",
       "23907      0.000000\n",
       "44841      0.000000\n",
       "2951       0.000000\n",
       "            ...    \n",
       "15179    176.185582\n",
       "33212    178.784267\n",
       "50569    198.208780\n",
       "48674    198.649186\n",
       "1077     200.000000\n",
       "Name: Salary, Length: 100, dtype: float64"
      ]
     },
     "execution_count": 112,
     "metadata": {},
     "output_type": "execute_result"
    }
   ],
   "source": [
    "minSalaries = salary.sort_values(ascending = True).head(100)\n",
    "minSalaries"
   ]
  },
  {
   "cell_type": "code",
   "execution_count": 114,
   "id": "ee9d4d9a",
   "metadata": {},
   "outputs": [
    {
     "data": {
      "text/plain": [
       "180198.1045586777"
      ]
     },
     "execution_count": 114,
     "metadata": {},
     "output_type": "execute_result"
    }
   ],
   "source": [
    "maxSalaries.mean()"
   ]
  },
  {
   "cell_type": "code",
   "execution_count": 115,
   "id": "6c96465e",
   "metadata": {},
   "outputs": [
    {
     "data": {
      "text/plain": [
       "67.08388907133794"
      ]
     },
     "execution_count": 115,
     "metadata": {},
     "output_type": "execute_result"
    }
   ],
   "source": [
    "minSalaries.mean()"
   ]
  },
  {
   "cell_type": "markdown",
   "id": "f18d27f1",
   "metadata": {},
   "source": [
    "# Sprawdzanie czy element jest w serii"
   ]
  },
  {
   "cell_type": "code",
   "execution_count": 47,
   "id": "3c69516e",
   "metadata": {},
   "outputs": [],
   "source": [
    "pok = pd.read_csv('./data/pokemon.csv', usecols = ['Name']).squeeze(\"columns\")"
   ]
  },
  {
   "cell_type": "code",
   "execution_count": 55,
   "id": "7766391f",
   "metadata": {},
   "outputs": [
    {
     "data": {
      "text/plain": [
       "RangeIndex(start=0, stop=800, step=1)"
      ]
     },
     "execution_count": 55,
     "metadata": {},
     "output_type": "execute_result"
    }
   ],
   "source": [
    "countries = ['EN', 'FR', 'PL', 'IT']\n",
    "'PL' in countries  # TRUE\n",
    "'ES' in countries  # FALSE\n",
    "pok.head()\n",
    "'Venusaur' in pok  # FALSE bo operator in na Data Series działa po indeksach\n",
    "3 in pok # TRUE\n",
    "900 in pok  # FALSE\n",
    "pok.index"
   ]
  },
  {
   "cell_type": "code",
   "execution_count": 56,
   "id": "ce83ecda",
   "metadata": {
    "collapsed": true
   },
   "outputs": [
    {
     "data": {
      "text/plain": [
       "array(['Bulbasaur', 'Ivysaur', 'Venusaur', 'VenusaurMega Venusaur',\n",
       "       'Charmander', 'Charmeleon', 'Charizard',\n",
       "       'CharizardMega Charizard X', 'CharizardMega Charizard Y',\n",
       "       'Squirtle', 'Wartortle', 'Blastoise', 'BlastoiseMega Blastoise',\n",
       "       'Caterpie', 'Metapod', 'Butterfree', 'Weedle', 'Kakuna',\n",
       "       'Beedrill', 'BeedrillMega Beedrill', 'Pidgey', 'Pidgeotto',\n",
       "       'Pidgeot', 'PidgeotMega Pidgeot', 'Rattata', 'Raticate', 'Spearow',\n",
       "       'Fearow', 'Ekans', 'Arbok', 'Pikachu', 'Raichu', 'Sandshrew',\n",
       "       'Sandslash', 'Nidoran♀', 'Nidorina', 'Nidoqueen', 'Nidoran♂',\n",
       "       'Nidorino', 'Nidoking', 'Clefairy', 'Clefable', 'Vulpix',\n",
       "       'Ninetales', 'Jigglypuff', 'Wigglytuff', 'Zubat', 'Golbat',\n",
       "       'Oddish', 'Gloom', 'Vileplume', 'Paras', 'Parasect', 'Venonat',\n",
       "       'Venomoth', 'Diglett', 'Dugtrio', 'Meowth', 'Persian', 'Psyduck',\n",
       "       'Golduck', 'Mankey', 'Primeape', 'Growlithe', 'Arcanine',\n",
       "       'Poliwag', 'Poliwhirl', 'Poliwrath', 'Abra', 'Kadabra', 'Alakazam',\n",
       "       'AlakazamMega Alakazam', 'Machop', 'Machoke', 'Machamp',\n",
       "       'Bellsprout', 'Weepinbell', 'Victreebel', 'Tentacool',\n",
       "       'Tentacruel', 'Geodude', 'Graveler', 'Golem', 'Ponyta', 'Rapidash',\n",
       "       'Slowpoke', 'Slowbro', 'SlowbroMega Slowbro', 'Magnemite',\n",
       "       'Magneton', \"Farfetch'd\", 'Doduo', 'Dodrio', 'Seel', 'Dewgong',\n",
       "       'Grimer', 'Muk', 'Shellder', 'Cloyster', 'Gastly', 'Haunter',\n",
       "       'Gengar', 'GengarMega Gengar', 'Onix', 'Drowzee', 'Hypno',\n",
       "       'Krabby', 'Kingler', 'Voltorb', 'Electrode', 'Exeggcute',\n",
       "       'Exeggutor', 'Cubone', 'Marowak', 'Hitmonlee', 'Hitmonchan',\n",
       "       'Lickitung', 'Koffing', 'Weezing', 'Rhyhorn', 'Rhydon', 'Chansey',\n",
       "       'Tangela', 'Kangaskhan', 'KangaskhanMega Kangaskhan', 'Horsea',\n",
       "       'Seadra', 'Goldeen', 'Seaking', 'Staryu', 'Starmie', 'Mr. Mime',\n",
       "       'Scyther', 'Jynx', 'Electabuzz', 'Magmar', 'Pinsir',\n",
       "       'PinsirMega Pinsir', 'Tauros', 'Magikarp', 'Gyarados',\n",
       "       'GyaradosMega Gyarados', 'Lapras', 'Ditto', 'Eevee', 'Vaporeon',\n",
       "       'Jolteon', 'Flareon', 'Porygon', 'Omanyte', 'Omastar', 'Kabuto',\n",
       "       'Kabutops', 'Aerodactyl', 'AerodactylMega Aerodactyl', 'Snorlax',\n",
       "       'Articuno', 'Zapdos', 'Moltres', 'Dratini', 'Dragonair',\n",
       "       'Dragonite', 'Mewtwo', 'MewtwoMega Mewtwo X',\n",
       "       'MewtwoMega Mewtwo Y', 'Mew', 'Chikorita', 'Bayleef', 'Meganium',\n",
       "       'Cyndaquil', 'Quilava', 'Typhlosion', 'Totodile', 'Croconaw',\n",
       "       'Feraligatr', 'Sentret', 'Furret', 'Hoothoot', 'Noctowl', 'Ledyba',\n",
       "       'Ledian', 'Spinarak', 'Ariados', 'Crobat', 'Chinchou', 'Lanturn',\n",
       "       'Pichu', 'Cleffa', 'Igglybuff', 'Togepi', 'Togetic', 'Natu',\n",
       "       'Xatu', 'Mareep', 'Flaaffy', 'Ampharos', 'AmpharosMega Ampharos',\n",
       "       'Bellossom', 'Marill', 'Azumarill', 'Sudowoodo', 'Politoed',\n",
       "       'Hoppip', 'Skiploom', 'Jumpluff', 'Aipom', 'Sunkern', 'Sunflora',\n",
       "       'Yanma', 'Wooper', 'Quagsire', 'Espeon', 'Umbreon', 'Murkrow',\n",
       "       'Slowking', 'Misdreavus', 'Unown', 'Wobbuffet', 'Girafarig',\n",
       "       'Pineco', 'Forretress', 'Dunsparce', 'Gligar', 'Steelix',\n",
       "       'SteelixMega Steelix', 'Snubbull', 'Granbull', 'Qwilfish',\n",
       "       'Scizor', 'ScizorMega Scizor', 'Shuckle', 'Heracross',\n",
       "       'HeracrossMega Heracross', 'Sneasel', 'Teddiursa', 'Ursaring',\n",
       "       'Slugma', 'Magcargo', 'Swinub', 'Piloswine', 'Corsola', 'Remoraid',\n",
       "       'Octillery', 'Delibird', 'Mantine', 'Skarmory', 'Houndour',\n",
       "       'Houndoom', 'HoundoomMega Houndoom', 'Kingdra', 'Phanpy',\n",
       "       'Donphan', 'Porygon2', 'Stantler', 'Smeargle', 'Tyrogue',\n",
       "       'Hitmontop', 'Smoochum', 'Elekid', 'Magby', 'Miltank', 'Blissey',\n",
       "       'Raikou', 'Entei', 'Suicune', 'Larvitar', 'Pupitar', 'Tyranitar',\n",
       "       'TyranitarMega Tyranitar', 'Lugia', 'Ho-oh', 'Celebi', 'Treecko',\n",
       "       'Grovyle', 'Sceptile', 'SceptileMega Sceptile', 'Torchic',\n",
       "       'Combusken', 'Blaziken', 'BlazikenMega Blaziken', 'Mudkip',\n",
       "       'Marshtomp', 'Swampert', 'SwampertMega Swampert', 'Poochyena',\n",
       "       'Mightyena', 'Zigzagoon', 'Linoone', 'Wurmple', 'Silcoon',\n",
       "       'Beautifly', 'Cascoon', 'Dustox', 'Lotad', 'Lombre', 'Ludicolo',\n",
       "       'Seedot', 'Nuzleaf', 'Shiftry', 'Taillow', 'Swellow', 'Wingull',\n",
       "       'Pelipper', 'Ralts', 'Kirlia', 'Gardevoir',\n",
       "       'GardevoirMega Gardevoir', 'Surskit', 'Masquerain', 'Shroomish',\n",
       "       'Breloom', 'Slakoth', 'Vigoroth', 'Slaking', 'Nincada', 'Ninjask',\n",
       "       'Shedinja', 'Whismur', 'Loudred', 'Exploud', 'Makuhita',\n",
       "       'Hariyama', 'Azurill', 'Nosepass', 'Skitty', 'Delcatty', 'Sableye',\n",
       "       'SableyeMega Sableye', 'Mawile', 'MawileMega Mawile', 'Aron',\n",
       "       'Lairon', 'Aggron', 'AggronMega Aggron', 'Meditite', 'Medicham',\n",
       "       'MedichamMega Medicham', 'Electrike', 'Manectric',\n",
       "       'ManectricMega Manectric', 'Plusle', 'Minun', 'Volbeat',\n",
       "       'Illumise', 'Roselia', 'Gulpin', 'Swalot', 'Carvanha', 'Sharpedo',\n",
       "       'SharpedoMega Sharpedo', 'Wailmer', 'Wailord', 'Numel', 'Camerupt',\n",
       "       'CameruptMega Camerupt', 'Torkoal', 'Spoink', 'Grumpig', 'Spinda',\n",
       "       'Trapinch', 'Vibrava', 'Flygon', 'Cacnea', 'Cacturne', 'Swablu',\n",
       "       'Altaria', 'AltariaMega Altaria', 'Zangoose', 'Seviper',\n",
       "       'Lunatone', 'Solrock', 'Barboach', 'Whiscash', 'Corphish',\n",
       "       'Crawdaunt', 'Baltoy', 'Claydol', 'Lileep', 'Cradily', 'Anorith',\n",
       "       'Armaldo', 'Feebas', 'Milotic', 'Castform', 'Kecleon', 'Shuppet',\n",
       "       'Banette', 'BanetteMega Banette', 'Duskull', 'Dusclops', 'Tropius',\n",
       "       'Chimecho', 'Absol', 'AbsolMega Absol', 'Wynaut', 'Snorunt',\n",
       "       'Glalie', 'GlalieMega Glalie', 'Spheal', 'Sealeo', 'Walrein',\n",
       "       'Clamperl', 'Huntail', 'Gorebyss', 'Relicanth', 'Luvdisc', 'Bagon',\n",
       "       'Shelgon', 'Salamence', 'SalamenceMega Salamence', 'Beldum',\n",
       "       'Metang', 'Metagross', 'MetagrossMega Metagross', 'Regirock',\n",
       "       'Regice', 'Registeel', 'Latias', 'LatiasMega Latias', 'Latios',\n",
       "       'LatiosMega Latios', 'Kyogre', 'KyogrePrimal Kyogre', 'Groudon',\n",
       "       'GroudonPrimal Groudon', 'Rayquaza', 'RayquazaMega Rayquaza',\n",
       "       'Jirachi', 'DeoxysNormal Forme', 'DeoxysAttack Forme',\n",
       "       'DeoxysDefense Forme', 'DeoxysSpeed Forme', 'Turtwig', 'Grotle',\n",
       "       'Torterra', 'Chimchar', 'Monferno', 'Infernape', 'Piplup',\n",
       "       'Prinplup', 'Empoleon', 'Starly', 'Staravia', 'Staraptor',\n",
       "       'Bidoof', 'Bibarel', 'Kricketot', 'Kricketune', 'Shinx', 'Luxio',\n",
       "       'Luxray', 'Budew', 'Roserade', 'Cranidos', 'Rampardos', 'Shieldon',\n",
       "       'Bastiodon', 'Burmy', 'WormadamPlant Cloak', 'WormadamSandy Cloak',\n",
       "       'WormadamTrash Cloak', 'Mothim', 'Combee', 'Vespiquen',\n",
       "       'Pachirisu', 'Buizel', 'Floatzel', 'Cherubi', 'Cherrim', 'Shellos',\n",
       "       'Gastrodon', 'Ambipom', 'Drifloon', 'Drifblim', 'Buneary',\n",
       "       'Lopunny', 'LopunnyMega Lopunny', 'Mismagius', 'Honchkrow',\n",
       "       'Glameow', 'Purugly', 'Chingling', 'Stunky', 'Skuntank', 'Bronzor',\n",
       "       'Bronzong', 'Bonsly', 'Mime Jr.', 'Happiny', 'Chatot', 'Spiritomb',\n",
       "       'Gible', 'Gabite', 'Garchomp', 'GarchompMega Garchomp', 'Munchlax',\n",
       "       'Riolu', 'Lucario', 'LucarioMega Lucario', 'Hippopotas',\n",
       "       'Hippowdon', 'Skorupi', 'Drapion', 'Croagunk', 'Toxicroak',\n",
       "       'Carnivine', 'Finneon', 'Lumineon', 'Mantyke', 'Snover',\n",
       "       'Abomasnow', 'AbomasnowMega Abomasnow', 'Weavile', 'Magnezone',\n",
       "       'Lickilicky', 'Rhyperior', 'Tangrowth', 'Electivire', 'Magmortar',\n",
       "       'Togekiss', 'Yanmega', 'Leafeon', 'Glaceon', 'Gliscor',\n",
       "       'Mamoswine', 'Porygon-Z', 'Gallade', 'GalladeMega Gallade',\n",
       "       'Probopass', 'Dusknoir', 'Froslass', 'Rotom', 'RotomHeat Rotom',\n",
       "       'RotomWash Rotom', 'RotomFrost Rotom', 'RotomFan Rotom',\n",
       "       'RotomMow Rotom', 'Uxie', 'Mesprit', 'Azelf', 'Dialga', 'Palkia',\n",
       "       'Heatran', 'Regigigas', 'GiratinaAltered Forme',\n",
       "       'GiratinaOrigin Forme', 'Cresselia', 'Phione', 'Manaphy',\n",
       "       'Darkrai', 'ShayminLand Forme', 'ShayminSky Forme', 'Arceus',\n",
       "       'Victini', 'Snivy', 'Servine', 'Serperior', 'Tepig', 'Pignite',\n",
       "       'Emboar', 'Oshawott', 'Dewott', 'Samurott', 'Patrat', 'Watchog',\n",
       "       'Lillipup', 'Herdier', 'Stoutland', 'Purrloin', 'Liepard',\n",
       "       'Pansage', 'Simisage', 'Pansear', 'Simisear', 'Panpour',\n",
       "       'Simipour', 'Munna', 'Musharna', 'Pidove', 'Tranquill', 'Unfezant',\n",
       "       'Blitzle', 'Zebstrika', 'Roggenrola', 'Boldore', 'Gigalith',\n",
       "       'Woobat', 'Swoobat', 'Drilbur', 'Excadrill', 'Audino',\n",
       "       'AudinoMega Audino', 'Timburr', 'Gurdurr', 'Conkeldurr', 'Tympole',\n",
       "       'Palpitoad', 'Seismitoad', 'Throh', 'Sawk', 'Sewaddle', 'Swadloon',\n",
       "       'Leavanny', 'Venipede', 'Whirlipede', 'Scolipede', 'Cottonee',\n",
       "       'Whimsicott', 'Petilil', 'Lilligant', 'Basculin', 'Sandile',\n",
       "       'Krokorok', 'Krookodile', 'Darumaka', 'DarmanitanStandard Mode',\n",
       "       'DarmanitanZen Mode', 'Maractus', 'Dwebble', 'Crustle', 'Scraggy',\n",
       "       'Scrafty', 'Sigilyph', 'Yamask', 'Cofagrigus', 'Tirtouga',\n",
       "       'Carracosta', 'Archen', 'Archeops', 'Trubbish', 'Garbodor',\n",
       "       'Zorua', 'Zoroark', 'Minccino', 'Cinccino', 'Gothita', 'Gothorita',\n",
       "       'Gothitelle', 'Solosis', 'Duosion', 'Reuniclus', 'Ducklett',\n",
       "       'Swanna', 'Vanillite', 'Vanillish', 'Vanilluxe', 'Deerling',\n",
       "       'Sawsbuck', 'Emolga', 'Karrablast', 'Escavalier', 'Foongus',\n",
       "       'Amoonguss', 'Frillish', 'Jellicent', 'Alomomola', 'Joltik',\n",
       "       'Galvantula', 'Ferroseed', 'Ferrothorn', 'Klink', 'Klang',\n",
       "       'Klinklang', 'Tynamo', 'Eelektrik', 'Eelektross', 'Elgyem',\n",
       "       'Beheeyem', 'Litwick', 'Lampent', 'Chandelure', 'Axew', 'Fraxure',\n",
       "       'Haxorus', 'Cubchoo', 'Beartic', 'Cryogonal', 'Shelmet',\n",
       "       'Accelgor', 'Stunfisk', 'Mienfoo', 'Mienshao', 'Druddigon',\n",
       "       'Golett', 'Golurk', 'Pawniard', 'Bisharp', 'Bouffalant', 'Rufflet',\n",
       "       'Braviary', 'Vullaby', 'Mandibuzz', 'Heatmor', 'Durant', 'Deino',\n",
       "       'Zweilous', 'Hydreigon', 'Larvesta', 'Volcarona', 'Cobalion',\n",
       "       'Terrakion', 'Virizion', 'TornadusIncarnate Forme',\n",
       "       'TornadusTherian Forme', 'ThundurusIncarnate Forme',\n",
       "       'ThundurusTherian Forme', 'Reshiram', 'Zekrom',\n",
       "       'LandorusIncarnate Forme', 'LandorusTherian Forme', 'Kyurem',\n",
       "       'KyuremBlack Kyurem', 'KyuremWhite Kyurem', 'KeldeoOrdinary Forme',\n",
       "       'KeldeoResolute Forme', 'MeloettaAria Forme',\n",
       "       'MeloettaPirouette Forme', 'Genesect', 'Chespin', 'Quilladin',\n",
       "       'Chesnaught', 'Fennekin', 'Braixen', 'Delphox', 'Froakie',\n",
       "       'Frogadier', 'Greninja', 'Bunnelby', 'Diggersby', 'Fletchling',\n",
       "       'Fletchinder', 'Talonflame', 'Scatterbug', 'Spewpa', 'Vivillon',\n",
       "       'Litleo', 'Pyroar', 'Flabébé', 'Floette', 'Florges', 'Skiddo',\n",
       "       'Gogoat', 'Pancham', 'Pangoro', 'Furfrou', 'Espurr',\n",
       "       'MeowsticMale', 'MeowsticFemale', 'Honedge', 'Doublade',\n",
       "       'AegislashBlade Forme', 'AegislashShield Forme', 'Spritzee',\n",
       "       'Aromatisse', 'Swirlix', 'Slurpuff', 'Inkay', 'Malamar', 'Binacle',\n",
       "       'Barbaracle', 'Skrelp', 'Dragalge', 'Clauncher', 'Clawitzer',\n",
       "       'Helioptile', 'Heliolisk', 'Tyrunt', 'Tyrantrum', 'Amaura',\n",
       "       'Aurorus', 'Sylveon', 'Hawlucha', 'Dedenne', 'Carbink', 'Goomy',\n",
       "       'Sliggoo', 'Goodra', 'Klefki', 'Phantump', 'Trevenant',\n",
       "       'PumpkabooAverage Size', 'PumpkabooSmall Size',\n",
       "       'PumpkabooLarge Size', 'PumpkabooSuper Size',\n",
       "       'GourgeistAverage Size', 'GourgeistSmall Size',\n",
       "       'GourgeistLarge Size', 'GourgeistSuper Size', 'Bergmite',\n",
       "       'Avalugg', 'Noibat', 'Noivern', 'Xerneas', 'Yveltal',\n",
       "       'Zygarde50% Forme', 'Diancie', 'DiancieMega Diancie',\n",
       "       'HoopaHoopa Confined', 'HoopaHoopa Unbound', 'Volcanion'],\n",
       "      dtype=object)"
      ]
     },
     "execution_count": 56,
     "metadata": {},
     "output_type": "execute_result"
    }
   ],
   "source": [
    "pok.values"
   ]
  },
  {
   "cell_type": "code",
   "execution_count": 58,
   "id": "6bd29093",
   "metadata": {},
   "outputs": [
    {
     "data": {
      "text/plain": [
       "False"
      ]
     },
     "execution_count": 58,
     "metadata": {},
     "output_type": "execute_result"
    }
   ],
   "source": [
    "'Venusaur' in pok.values   # TRUE\n",
    "'Venusaur BLUE' in pok.values  # FALSE"
   ]
  },
  {
   "cell_type": "markdown",
   "id": "b043b8d5",
   "metadata": {},
   "source": [
    "# Zadania"
   ]
  },
  {
   "cell_type": "code",
   "execution_count": 1,
   "id": "be1e8ecf",
   "metadata": {},
   "outputs": [],
   "source": [
    "import pandas as pd\n",
    "import numpy as np\n",
    "import matplotlib.pyplot as plt\n",
    "import math as math"
   ]
  },
  {
   "cell_type": "code",
   "execution_count": 3,
   "id": "df5f98f2",
   "metadata": {},
   "outputs": [
    {
     "data": {
      "text/plain": [
       "0     United States\n",
       "1    United Kingdom\n",
       "2    United Kingdom\n",
       "3     United States\n",
       "4       Switzerland\n",
       "Name: Country, dtype: object"
      ]
     },
     "execution_count": 3,
     "metadata": {},
     "output_type": "execute_result"
    }
   ],
   "source": [
    "countries = pd.read_csv(\"./data/StackOverflowDeveloperSurvey.csv\",\n",
    "                        usecols = [\"Country\"]).dropna().squeeze()\n",
    "countries.head()"
   ]
  },
  {
   "cell_type": "code",
   "execution_count": 5,
   "id": "aaf08ad9",
   "metadata": {},
   "outputs": [
    {
     "data": {
      "text/plain": [
       "False"
      ]
     },
     "execution_count": 5,
     "metadata": {},
     "output_type": "execute_result"
    }
   ],
   "source": [
    "'Spain' in countries\n",
    "# Dostajemy wynik False ponieważ in w data Series działa na indeksach a Spain jest wartością"
   ]
  },
  {
   "cell_type": "code",
   "execution_count": 7,
   "id": "f15cf0b0",
   "metadata": {},
   "outputs": [
    {
     "data": {
      "text/plain": [
       "True"
      ]
     },
     "execution_count": 7,
     "metadata": {},
     "output_type": "execute_result"
    }
   ],
   "source": [
    "'Spain' in countries.values"
   ]
  },
  {
   "cell_type": "code",
   "execution_count": 8,
   "id": "28b63fe9",
   "metadata": {},
   "outputs": [
    {
     "data": {
      "text/plain": [
       "False"
      ]
     },
     "execution_count": 8,
     "metadata": {},
     "output_type": "execute_result"
    }
   ],
   "source": [
    "'Wonderland' in countries.values"
   ]
  },
  {
   "cell_type": "markdown",
   "id": "0c687093",
   "metadata": {},
   "source": [
    "# Pobieranie wartości po indeksie"
   ]
  },
  {
   "cell_type": "code",
   "execution_count": 68,
   "id": "8ab07d95",
   "metadata": {},
   "outputs": [
    {
     "data": {
      "text/plain": [
       "798    HoopaHoopa Unbound\n",
       "799             Volcanion\n",
       "Name: Name, dtype: object"
      ]
     },
     "execution_count": 68,
     "metadata": {},
     "output_type": "execute_result"
    }
   ],
   "source": [
    "pok[73]    # 'Machoke'\n",
    "    # pok[64, 73] # TypeError\n",
    "pok[[64,73]]   # Otrzymamy wynik\n",
    "pok[2:7]   # Również otrzymujemy wynik ponieważ notacja dwukropka tworzy listę w liście\n",
    "pok[795:]  # Zostanie zwrócone od 795 do końca\n",
    "pok[:4]  # Zostanie zwrócone pozycje 0 1 2 3 \n",
    "pok[-2:]  # Dwie ostatnie pozycje zostaną zwrócone\n"
   ]
  },
  {
   "cell_type": "markdown",
   "id": "88335c08",
   "metadata": {},
   "source": [
    "# Zadania"
   ]
  },
  {
   "cell_type": "code",
   "execution_count": 20,
   "id": "1f025ec5",
   "metadata": {},
   "outputs": [
    {
     "data": {
      "text/plain": [
       "1          20 to 99 employees\n",
       "2    10,000 or more employees\n",
       "3    10,000 or more employees\n",
       "4          10 to 19 employees\n",
       "6          20 to 99 employees\n",
       "Name: CompanySize, dtype: object"
      ]
     },
     "execution_count": 20,
     "metadata": {},
     "output_type": "execute_result"
    }
   ],
   "source": [
    "surveys = pd.read_csv(\"./data/StackOverflowDeveloperSurvey.csv\",\n",
    "                        usecols = [\"CompanySize\"]).dropna().squeeze()\n",
    "surveys.head()"
   ]
  },
  {
   "cell_type": "code",
   "execution_count": 21,
   "id": "64b790a9",
   "metadata": {},
   "outputs": [
    {
     "data": {
      "text/plain": [
       "'10,000 or more employees'"
      ]
     },
     "execution_count": 21,
     "metadata": {},
     "output_type": "execute_result"
    }
   ],
   "source": [
    "surveys[3]"
   ]
  },
  {
   "cell_type": "code",
   "execution_count": 22,
   "id": "30bbbfc8",
   "metadata": {},
   "outputs": [
    {
     "name": "stderr",
     "output_type": "stream",
     "text": [
      "C:\\Users\\neks5\\AppData\\Local\\Temp\\ipykernel_13064\\3695374365.py:1: FutureWarning: The behavior of `series[i:j]` with an integer-dtype index is deprecated. In a future version, this will be treated as *label-based* indexing, consistent with e.g. `series[i]` lookups. To retain the old behavior, use `series.iloc[i:j]`. To get the future behavior, use `series.loc[i:j]`.\n",
      "  surveys[:11]\n"
     ]
    },
    {
     "data": {
      "text/plain": [
       "1           20 to 99 employees\n",
       "2     10,000 or more employees\n",
       "3     10,000 or more employees\n",
       "4           10 to 19 employees\n",
       "6           20 to 99 employees\n",
       "7      Fewer than 10 employees\n",
       "8     5,000 to 9,999 employees\n",
       "10        100 to 499 employees\n",
       "11        100 to 499 employees\n",
       "13     Fewer than 10 employees\n",
       "14    5,000 to 9,999 employees\n",
       "Name: CompanySize, dtype: object"
      ]
     },
     "execution_count": 22,
     "metadata": {},
     "output_type": "execute_result"
    }
   ],
   "source": [
    "surveys[:11]"
   ]
  },
  {
   "cell_type": "code",
   "execution_count": 23,
   "id": "f42ecce6",
   "metadata": {},
   "outputs": [
    {
     "data": {
      "text/plain": [
       "'20 to 99 employees'"
      ]
     },
     "execution_count": 23,
     "metadata": {},
     "output_type": "execute_result"
    }
   ],
   "source": [
    "surveys[12345]"
   ]
  },
  {
   "cell_type": "code",
   "execution_count": 26,
   "id": "5d07c03d",
   "metadata": {
    "collapsed": true
   },
   "outputs": [
    {
     "name": "stderr",
     "output_type": "stream",
     "text": [
      "C:\\Users\\neks5\\AppData\\Local\\Temp\\ipykernel_13064\\1867664269.py:1: FutureWarning: The behavior of `series[i:j]` with an integer-dtype index is deprecated. In a future version, this will be treated as *label-based* indexing, consistent with e.g. `series[i]` lookups. To retain the old behavior, use `series.iloc[i:j]`. To get the future behavior, use `series.loc[i:j]`.\n",
      "  surveys[12341:12351]\n"
     ]
    },
    {
     "data": {
      "text/plain": [
       "15989    1,000 to 4,999 employees\n",
       "15991          20 to 99 employees\n",
       "15992          10 to 19 employees\n",
       "15993    1,000 to 4,999 employees\n",
       "15994          20 to 99 employees\n",
       "15995        100 to 499 employees\n",
       "15996          10 to 19 employees\n",
       "15997                I don't know\n",
       "15998          20 to 99 employees\n",
       "15999        100 to 499 employees\n",
       "Name: CompanySize, dtype: object"
      ]
     },
     "execution_count": 26,
     "metadata": {},
     "output_type": "execute_result"
    }
   ],
   "source": [
    "surveys[12341:12351]"
   ]
  },
  {
   "cell_type": "code",
   "execution_count": 36,
   "id": "bf2340fb",
   "metadata": {},
   "outputs": [
    {
     "data": {
      "text/plain": [
       "21923    1,000 to 4,999 employees\n",
       "36683    1,000 to 4,999 employees\n",
       "43105    1,000 to 4,999 employees\n",
       "43102    1,000 to 4,999 employees\n",
       "30582    1,000 to 4,999 employees\n",
       "                   ...           \n",
       "25535      I prefer not to answer\n",
       "14125      I prefer not to answer\n",
       "25502      I prefer not to answer\n",
       "35042      I prefer not to answer\n",
       "1587       I prefer not to answer\n",
       "Name: CompanySize, Length: 38922, dtype: object"
      ]
     },
     "execution_count": 36,
     "metadata": {},
     "output_type": "execute_result"
    }
   ],
   "source": [
    "surveys = surveys.copy() # Bez stworzenia kopi robimy operacje na widoku i wywala błąd   \n",
    "# oznacza, że próbujesz posortować widok (view) serii Pandas, a nie oryginalnej serii. \n",
    "surveys.sort_values(inplace = True)\n",
    "surveys"
   ]
  },
  {
   "cell_type": "code",
   "execution_count": 37,
   "id": "a5323ad9",
   "metadata": {},
   "outputs": [
    {
     "data": {
      "text/plain": [
       "'10,000 or more employees'"
      ]
     },
     "execution_count": 37,
     "metadata": {},
     "output_type": "execute_result"
    }
   ],
   "source": [
    "surveys[3]"
   ]
  },
  {
   "cell_type": "code",
   "execution_count": 38,
   "id": "6c3776ce",
   "metadata": {},
   "outputs": [
    {
     "name": "stderr",
     "output_type": "stream",
     "text": [
      "C:\\Users\\neks5\\AppData\\Local\\Temp\\ipykernel_13064\\3695374365.py:1: FutureWarning: The behavior of `series[i:j]` with an integer-dtype index is deprecated. In a future version, this will be treated as *label-based* indexing, consistent with e.g. `series[i]` lookups. To retain the old behavior, use `series.iloc[i:j]`. To get the future behavior, use `series.loc[i:j]`.\n",
      "  surveys[:11]\n"
     ]
    },
    {
     "data": {
      "text/plain": [
       "21923    1,000 to 4,999 employees\n",
       "36683    1,000 to 4,999 employees\n",
       "43105    1,000 to 4,999 employees\n",
       "43102    1,000 to 4,999 employees\n",
       "30582    1,000 to 4,999 employees\n",
       "43072    1,000 to 4,999 employees\n",
       "43063    1,000 to 4,999 employees\n",
       "23955    1,000 to 4,999 employees\n",
       "43060    1,000 to 4,999 employees\n",
       "43056    1,000 to 4,999 employees\n",
       "30558    1,000 to 4,999 employees\n",
       "Name: CompanySize, dtype: object"
      ]
     },
     "execution_count": 38,
     "metadata": {},
     "output_type": "execute_result"
    }
   ],
   "source": [
    "surveys[:11]"
   ]
  },
  {
   "cell_type": "code",
   "execution_count": 39,
   "id": "b77fcd28",
   "metadata": {},
   "outputs": [
    {
     "data": {
      "text/plain": [
       "'20 to 99 employees'"
      ]
     },
     "execution_count": 39,
     "metadata": {},
     "output_type": "execute_result"
    }
   ],
   "source": [
    "surveys[12345]"
   ]
  },
  {
   "cell_type": "code",
   "execution_count": 40,
   "id": "cad39478",
   "metadata": {},
   "outputs": [
    {
     "name": "stderr",
     "output_type": "stream",
     "text": [
      "C:\\Users\\neks5\\AppData\\Local\\Temp\\ipykernel_13064\\1867664269.py:1: FutureWarning: The behavior of `series[i:j]` with an integer-dtype index is deprecated. In a future version, this will be treated as *label-based* indexing, consistent with e.g. `series[i]` lookups. To retain the old behavior, use `series.iloc[i:j]`. To get the future behavior, use `series.loc[i:j]`.\n",
      "  surveys[12341:12351]\n"
     ]
    },
    {
     "data": {
      "text/plain": [
       "14554    10,000 or more employees\n",
       "9429     10,000 or more employees\n",
       "6384     10,000 or more employees\n",
       "1102     10,000 or more employees\n",
       "14549    10,000 or more employees\n",
       "14547    10,000 or more employees\n",
       "14570    10,000 or more employees\n",
       "14575    10,000 or more employees\n",
       "6410     10,000 or more employees\n",
       "14576    10,000 or more employees\n",
       "Name: CompanySize, dtype: object"
      ]
     },
     "execution_count": 40,
     "metadata": {},
     "output_type": "execute_result"
    }
   ],
   "source": [
    "surveys[12341:12351]"
   ]
  },
  {
   "cell_type": "code",
   "execution_count": 41,
   "id": "48b5e47b",
   "metadata": {},
   "outputs": [],
   "source": [
    "surveys.reset_index(drop = True, inplace = True)"
   ]
  },
  {
   "cell_type": "code",
   "execution_count": 42,
   "id": "431a04f0",
   "metadata": {},
   "outputs": [
    {
     "data": {
      "text/plain": [
       "'1,000 to 4,999 employees'"
      ]
     },
     "execution_count": 42,
     "metadata": {},
     "output_type": "execute_result"
    }
   ],
   "source": [
    "surveys[3]"
   ]
  },
  {
   "cell_type": "code",
   "execution_count": 43,
   "id": "16387261",
   "metadata": {},
   "outputs": [
    {
     "data": {
      "text/plain": [
       "0     1,000 to 4,999 employees\n",
       "1     1,000 to 4,999 employees\n",
       "2     1,000 to 4,999 employees\n",
       "3     1,000 to 4,999 employees\n",
       "4     1,000 to 4,999 employees\n",
       "5     1,000 to 4,999 employees\n",
       "6     1,000 to 4,999 employees\n",
       "7     1,000 to 4,999 employees\n",
       "8     1,000 to 4,999 employees\n",
       "9     1,000 to 4,999 employees\n",
       "10    1,000 to 4,999 employees\n",
       "Name: CompanySize, dtype: object"
      ]
     },
     "execution_count": 43,
     "metadata": {},
     "output_type": "execute_result"
    }
   ],
   "source": [
    "surveys[:11]"
   ]
  },
  {
   "cell_type": "code",
   "execution_count": 44,
   "id": "ccd574dc",
   "metadata": {},
   "outputs": [
    {
     "data": {
      "text/plain": [
       "'10,000 or more employees'"
      ]
     },
     "execution_count": 44,
     "metadata": {},
     "output_type": "execute_result"
    }
   ],
   "source": [
    "surveys[12345]"
   ]
  },
  {
   "cell_type": "code",
   "execution_count": 45,
   "id": "5614c859",
   "metadata": {},
   "outputs": [
    {
     "data": {
      "text/plain": [
       "12341    10,000 or more employees\n",
       "12342    10,000 or more employees\n",
       "12343    10,000 or more employees\n",
       "12344    10,000 or more employees\n",
       "12345    10,000 or more employees\n",
       "12346    10,000 or more employees\n",
       "12347    10,000 or more employees\n",
       "12348    10,000 or more employees\n",
       "12349    10,000 or more employees\n",
       "12350    10,000 or more employees\n",
       "Name: CompanySize, dtype: object"
      ]
     },
     "execution_count": 45,
     "metadata": {},
     "output_type": "execute_result"
    }
   ],
   "source": [
    "surveys[12341:12351]"
   ]
  },
  {
   "attachments": {
    "image-2.png": {
     "image/png": "[encoded data removed]"
    }
   },
   "cell_type": "markdown",
   "id": "cfd8f74e",
   "metadata": {},
   "source": [
    "# Pobieranie wartości z serii - porówananie metod\n",
    "![image-2.png](attachment:image-2.png)"
   ]
  },
  {
   "cell_type": "markdown",
   "id": "cc26d108",
   "metadata": {},
   "source": [
    "# Zadania"
   ]
  },
  {
   "cell_type": "code",
   "execution_count": 48,
   "id": "adf64910",
   "metadata": {
    "collapsed": true
   },
   "outputs": [
    {
     "data": {
      "text/plain": [
       "Symbol\n",
       "AF            Afghanistan\n",
       "AL                Albania\n",
       "DZ                Algeria\n",
       "AD                Andorra\n",
       "AO                 Angola\n",
       "AI               Anguilla\n",
       "AQ             Antarctica\n",
       "AG    Antigua and Barbuda\n",
       "SA           Saudi Arabia\n",
       "AR              Argentina\n",
       "AM                Armenia\n",
       "AW                  Aruba\n",
       "AU              Australia\n",
       "AT                Austria\n",
       "AZ             Azerbaijan\n",
       "BS                Bahamas\n",
       "BH                Bahrain\n",
       "BD             Bangladesh\n",
       "BB               Barbados\n",
       "BE                Belgium\n",
       "Name: Name, dtype: object"
      ]
     },
     "execution_count": 48,
     "metadata": {},
     "output_type": "execute_result"
    }
   ],
   "source": [
    "countries = pd.read_csv(\"./data/countries.csv\", usecols=['Symbol','Name'],index_col='Symbol').squeeze()\n",
    "\n",
    "countries.head(20)"
   ]
  },
  {
   "cell_type": "code",
   "execution_count": 54,
   "id": "625e41e5",
   "metadata": {},
   "outputs": [
    {
     "data": {
      "text/plain": [
       "'France'"
      ]
     },
     "execution_count": 54,
     "metadata": {},
     "output_type": "execute_result"
    }
   ],
   "source": [
    "countries['FR']\n",
    "countries.get('FR')\n",
    "countries.at['FR']\n",
    "countries.loc['FR']"
   ]
  },
  {
   "cell_type": "code",
   "execution_count": 56,
   "id": "95949d69",
   "metadata": {},
   "outputs": [
    {
     "data": {
      "text/plain": [
       "'Austria'"
      ]
     },
     "execution_count": 56,
     "metadata": {},
     "output_type": "execute_result"
    }
   ],
   "source": [
    "countries.iat[13]\n",
    "countries.iloc[13]"
   ]
  },
  {
   "cell_type": "code",
   "execution_count": 66,
   "id": "eaacf7f8",
   "metadata": {},
   "outputs": [
    {
     "data": {
      "text/plain": [
       "Symbol\n",
       "FI    Finland\n",
       "SE     Sweden\n",
       "NO     Norway\n",
       "Name: Name, dtype: object"
      ]
     },
     "execution_count": 66,
     "metadata": {},
     "output_type": "execute_result"
    }
   ],
   "source": [
    "nordic = ['FI', 'SE', 'NO']\n",
    "nordic\n",
    "\n",
    "countries[nordic]"
   ]
  },
  {
   "cell_type": "code",
   "execution_count": 67,
   "id": "9f9f7234",
   "metadata": {},
   "outputs": [
    {
     "data": {
      "text/plain": [
       "Symbol\n",
       "FI    Finland\n",
       "SE     Sweden\n",
       "NO     Norway\n",
       "Name: Name, dtype: object"
      ]
     },
     "execution_count": 67,
     "metadata": {},
     "output_type": "execute_result"
    }
   ],
   "source": [
    "countries.loc[nordic]"
   ]
  },
  {
   "cell_type": "markdown",
   "id": "1d37ac3b",
   "metadata": {},
   "source": [
    "# Reindex i intersection"
   ]
  },
  {
   "cell_type": "markdown",
   "id": "4ff1936b",
   "metadata": {},
   "source": [
    "# Zadania"
   ]
  },
  {
   "cell_type": "code",
   "execution_count": 72,
   "id": "df96c0d4",
   "metadata": {
    "collapsed": true
   },
   "outputs": [
    {
     "data": {
      "text/plain": [
       "Symbol\n",
       "AF            Afghanistan\n",
       "AL                Albania\n",
       "DZ                Algeria\n",
       "AD                Andorra\n",
       "AO                 Angola\n",
       "AI               Anguilla\n",
       "AQ             Antarctica\n",
       "AG    Antigua and Barbuda\n",
       "SA           Saudi Arabia\n",
       "AR              Argentina\n",
       "AM                Armenia\n",
       "AW                  Aruba\n",
       "AU              Australia\n",
       "AT                Austria\n",
       "AZ             Azerbaijan\n",
       "BS                Bahamas\n",
       "BH                Bahrain\n",
       "BD             Bangladesh\n",
       "BB               Barbados\n",
       "BE                Belgium\n",
       "Name: Name, dtype: object"
      ]
     },
     "execution_count": 72,
     "metadata": {},
     "output_type": "execute_result"
    }
   ],
   "source": [
    "countries = pd.read_csv(\"./data/countries.csv\",\n",
    "                        usecols = [\"Symbol\", \"Name\"],\n",
    "                        index_col = \"Symbol\").squeeze()\n",
    "countries.dropna(inplace = True)\n",
    "\n",
    "countries.head(20)"
   ]
  },
  {
   "cell_type": "code",
   "execution_count": null,
   "id": "e4358883",
   "metadata": {
    "collapsed": true
   },
   "outputs": [],
   "source": [
    "toFind = ['BB', 'AA', 'BS']\n",
    "countries.loc[toFind]  # KeyError, możliwe że ta metoda już nie działa"
   ]
  },
  {
   "cell_type": "code",
   "execution_count": 79,
   "id": "2a031294",
   "metadata": {},
   "outputs": [
    {
     "data": {
      "text/plain": [
       "Symbol\n",
       "BB    Barbados\n",
       "AA         NaN\n",
       "BS     Bahamas\n",
       "Name: Name, dtype: object"
      ]
     },
     "execution_count": 79,
     "metadata": {},
     "output_type": "execute_result"
    }
   ],
   "source": [
    "countries.reindex(toFind)"
   ]
  },
  {
   "cell_type": "code",
   "execution_count": 81,
   "id": "24c89ec9",
   "metadata": {},
   "outputs": [
    {
     "data": {
      "text/plain": [
       "Index(['BS', 'BB'], dtype='object', name='Symbol')"
      ]
     },
     "execution_count": 81,
     "metadata": {},
     "output_type": "execute_result"
    }
   ],
   "source": [
    "countries.index.intersection(toFind)"
   ]
  },
  {
   "cell_type": "code",
   "execution_count": 82,
   "id": "f825d15d",
   "metadata": {},
   "outputs": [
    {
     "data": {
      "text/plain": [
       "Symbol\n",
       "BS     Bahamas\n",
       "BB    Barbados\n",
       "Name: Name, dtype: object"
      ]
     },
     "execution_count": 82,
     "metadata": {},
     "output_type": "execute_result"
    }
   ],
   "source": [
    "countries.loc[countries.index.intersection(toFind)]"
   ]
  },
  {
   "cell_type": "markdown",
   "id": "300905e0",
   "metadata": {},
   "source": [
    "# Określanie indeksu podczas importu"
   ]
  },
  {
   "cell_type": "markdown",
   "id": "e12d3480",
   "metadata": {},
   "source": [
    "# Zadania"
   ]
  },
  {
   "cell_type": "code",
   "execution_count": 86,
   "id": "99ef0697",
   "metadata": {
    "scrolled": true
   },
   "outputs": [
    {
     "data": {
      "text/plain": [
       "Rank\n",
       "1               Walmart\n",
       "2    Berkshire Hathaway\n",
       "3                 Apple\n",
       "4           Exxon Mobil\n",
       "5              McKesson\n",
       "Name: Title, dtype: object"
      ]
     },
     "execution_count": 86,
     "metadata": {},
     "output_type": "execute_result"
    }
   ],
   "source": [
    "fortune500 = pd.read_csv(\"./data/Fortune_500_2017.csv\", \n",
    "                        usecols = [\"Rank\", \"Title\"],\n",
    "                        index_col = \"Rank\").squeeze()\n",
    "\n",
    "fortune500.head()"
   ]
  },
  {
   "cell_type": "code",
   "execution_count": 89,
   "id": "2829fab6",
   "metadata": {
    "collapsed": true
   },
   "outputs": [
    {
     "name": "stderr",
     "output_type": "stream",
     "text": [
      "C:\\Users\\neks5\\AppData\\Local\\Temp\\ipykernel_13064\\278739393.py:1: FutureWarning: The behavior of `series[i:j]` with an integer-dtype index is deprecated. In a future version, this will be treated as *label-based* indexing, consistent with e.g. `series[i]` lookups. To retain the old behavior, use `series.iloc[i:j]`. To get the future behavior, use `series.loc[i:j]`.\n",
      "  fortune500[:10] # 10 pierwszych\n"
     ]
    },
    {
     "data": {
      "text/plain": [
       "Rank\n",
       "1                Walmart\n",
       "2     Berkshire Hathaway\n",
       "3                  Apple\n",
       "4            Exxon Mobil\n",
       "5               McKesson\n",
       "6     UnitedHealth Group\n",
       "7             CVS Health\n",
       "8         General Motors\n",
       "9                   AT&T\n",
       "10            Ford Motor\n",
       "Name: Title, dtype: object"
      ]
     },
     "execution_count": 89,
     "metadata": {},
     "output_type": "execute_result"
    }
   ],
   "source": [
    "fortune500[:10] # 10 pierwszych"
   ]
  },
  {
   "cell_type": "code",
   "execution_count": 91,
   "id": "ddb257db",
   "metadata": {
    "collapsed": true
   },
   "outputs": [
    {
     "name": "stderr",
     "output_type": "stream",
     "text": [
      "C:\\Users\\neks5\\AppData\\Local\\Temp\\ipykernel_13064\\502503872.py:1: FutureWarning: The behavior of `series[i:j]` with an integer-dtype index is deprecated. In a future version, this will be treated as *label-based* indexing, consistent with e.g. `series[i]` lookups. To retain the old behavior, use `series.iloc[i:j]`. To get the future behavior, use `series.loc[i:j]`.\n",
      "  fortune500[-20:]\n"
     ]
    },
    {
     "data": {
      "text/plain": [
       "Rank\n",
       "481           Booz Allen Hamilton Holding\n",
       "482                              Chemours\n",
       "483    Western & Southern Financial Group\n",
       "484                              Celanese\n",
       "485                   Windstream Holdings\n",
       "486                              Seaboard\n",
       "487                             Essendant\n",
       "488                                Apache\n",
       "489                                Airgas\n",
       "490                        Kelly Services\n",
       "491                         Liberty Media\n",
       "492                      Rockwell Collins\n",
       "493             Robert Half International\n",
       "494                             CH2M Hill\n",
       "495                              Big Lots\n",
       "496                         Michaels Cos.\n",
       "497                         Toll Brothers\n",
       "498                                 Yahoo\n",
       "499                         Vistra Energy\n",
       "500                        ABM Industries\n",
       "Name: Title, dtype: object"
      ]
     },
     "execution_count": 91,
     "metadata": {},
     "output_type": "execute_result"
    }
   ],
   "source": [
    "fortune500[-20:] # 20 ostatnich"
   ]
  },
  {
   "cell_type": "code",
   "execution_count": 94,
   "id": "b0ddd13b",
   "metadata": {},
   "outputs": [
    {
     "data": {
      "text/plain": [
       "Title\n",
       "Walmart               2300000\n",
       "Berkshire Hathaway     367700\n",
       "Apple                  116000\n",
       "Exxon Mobil             72700\n",
       "McKesson                68000\n",
       "Name: Employees, dtype: int64"
      ]
     },
     "execution_count": 94,
     "metadata": {},
     "output_type": "execute_result"
    }
   ],
   "source": [
    "fortune500 = pd.read_csv(\"./data/Fortune_500_2017.csv\", \n",
    "                        usecols = [\"Title\", \"Employees\"],\n",
    "                        index_col = \"Title\").squeeze()\n",
    "\n",
    "fortune500.head()"
   ]
  },
  {
   "cell_type": "code",
   "execution_count": 105,
   "id": "803f2487",
   "metadata": {},
   "outputs": [
    {
     "data": {
      "text/plain": [
       "Title\n",
       "IBM         414400\n",
       "Alphabet     72053\n",
       "Facebook     17048\n",
       "Apple       116000\n",
       "Name: Employees, dtype: int64"
      ]
     },
     "execution_count": 105,
     "metadata": {},
     "output_type": "execute_result"
    }
   ],
   "source": [
    "lst = ['IBM', 'Alphabet', 'Facebook', 'Apple']\n",
    "fortune500.loc[lst]"
   ]
  },
  {
   "cell_type": "markdown",
   "id": "a4ca07f8",
   "metadata": {},
   "source": [
    "# Więcej metod Data Series"
   ]
  },
  {
   "cell_type": "markdown",
   "id": "cca61157",
   "metadata": {},
   "source": [
    "# Zadania"
   ]
  },
  {
   "cell_type": "code",
   "execution_count": 109,
   "id": "3942c3a8",
   "metadata": {},
   "outputs": [],
   "source": [
    "programmers = pd.read_csv(\"./data/StackOverflowDeveloperSurvey2018.csv\", \n",
    "           low_memory= False, usecols=['ConvertedSalary']).squeeze()"
   ]
  },
  {
   "cell_type": "code",
   "execution_count": 110,
   "id": "f6da557c",
   "metadata": {},
   "outputs": [
    {
     "name": "stdout",
     "output_type": "stream",
     "text": [
      "mean:  95780.86178776571\n",
      "median:  55075.0\n",
      "std:  202348.21562528735\n"
     ]
    }
   ],
   "source": [
    "print(\"mean: \", programmers.mean())\n",
    "print(\"median: \", programmers.median())\n",
    "print(\"std: \", programmers.std())"
   ]
  },
  {
   "cell_type": "code",
   "execution_count": 112,
   "id": "717e2cd6",
   "metadata": {},
   "outputs": [],
   "source": [
    "Salary = programmers.max()"
   ]
  },
  {
   "cell_type": "code",
   "execution_count": 115,
   "id": "85975b36",
   "metadata": {},
   "outputs": [
    {
     "data": {
      "text/plain": [
       "Title\n",
       "Walmart               2300000\n",
       "Berkshire Hathaway     367700\n",
       "Apple                  116000\n",
       "Exxon Mobil             72700\n",
       "McKesson                68000\n",
       "Name: Employees, dtype: int64"
      ]
     },
     "execution_count": 115,
     "metadata": {},
     "output_type": "execute_result"
    }
   ],
   "source": [
    "fortune500 = pd.read_csv(\"./data/Fortune_500_2017.csv\",\n",
    "                        usecols = [\"Title\", \"Employees\"], index_col= \"Title\").squeeze()\n",
    "fortune500.head()"
   ]
  },
  {
   "cell_type": "code",
   "execution_count": 116,
   "id": "952d6b0c",
   "metadata": {},
   "outputs": [
    {
     "data": {
      "text/plain": [
       "'Walmart'"
      ]
     },
     "execution_count": 116,
     "metadata": {},
     "output_type": "execute_result"
    }
   ],
   "source": [
    "fortune500.idxmax()"
   ]
  },
  {
   "cell_type": "code",
   "execution_count": 119,
   "id": "af236994",
   "metadata": {},
   "outputs": [
    {
     "data": {
      "text/plain": [
       "2300000"
      ]
     },
     "execution_count": 119,
     "metadata": {},
     "output_type": "execute_result"
    }
   ],
   "source": [
    "fortune500.loc[fortune500.idxmax()]"
   ]
  },
  {
   "cell_type": "code",
   "execution_count": 117,
   "id": "44930130",
   "metadata": {},
   "outputs": [
    {
     "data": {
      "text/plain": [
       "'A-Mark Precious Metals'"
      ]
     },
     "execution_count": 117,
     "metadata": {},
     "output_type": "execute_result"
    }
   ],
   "source": [
    "fortune500.idxmin()"
   ]
  },
  {
   "cell_type": "code",
   "execution_count": 120,
   "id": "9120bc17",
   "metadata": {},
   "outputs": [
    {
     "data": {
      "text/plain": [
       "83"
      ]
     },
     "execution_count": 120,
     "metadata": {},
     "output_type": "execute_result"
    }
   ],
   "source": [
    "fortune500.loc[fortune500.idxmin()]"
   ]
  },
  {
   "cell_type": "markdown",
   "id": "a03b0c38",
   "metadata": {},
   "source": [
    "# Modyfikacja serii danych"
   ]
  },
  {
   "cell_type": "markdown",
   "id": "bc7f2f7f",
   "metadata": {},
   "source": [
    "# Zadania"
   ]
  },
  {
   "cell_type": "code",
   "execution_count": 124,
   "id": "054974a6",
   "metadata": {},
   "outputs": [
    {
     "data": {
      "text/plain": [
       "2     113750.0\n",
       "14    100000.0\n",
       "17    130000.0\n",
       "18     82500.0\n",
       "22    100764.0\n",
       "Name: Salary, dtype: float64"
      ]
     },
     "execution_count": 124,
     "metadata": {},
     "output_type": "execute_result"
    }
   ],
   "source": [
    "surveys = pd.read_csv(\"./data/StackOverflowDeveloperSurvey.csv\", \n",
    "                     usecols = [\"Salary\"]).dropna().squeeze()\n",
    "surveys.head()"
   ]
  },
  {
   "cell_type": "code",
   "execution_count": 127,
   "id": "e50ddabe",
   "metadata": {},
   "outputs": [
    {
     "name": "stdout",
     "output_type": "stream",
     "text": [
      "12891\n",
      "12891\n"
     ]
    }
   ],
   "source": [
    "print(surveys.count())\n",
    "# Drugi sposób\n",
    "print(len(surveys))"
   ]
  },
  {
   "cell_type": "code",
   "execution_count": 138,
   "id": "ed3e8d3e",
   "metadata": {},
   "outputs": [
    {
     "data": {
      "text/plain": [
       "2     3412.50\n",
       "14    3000.00\n",
       "17    3900.00\n",
       "18    2475.00\n",
       "22    3022.92\n",
       "Name: Salary, dtype: float64"
      ]
     },
     "execution_count": 138,
     "metadata": {},
     "output_type": "execute_result"
    }
   ],
   "source": [
    "surveysIncrease = surveys * 0.03\n",
    "surveysIncrease.head()"
   ]
  },
  {
   "cell_type": "code",
   "execution_count": 140,
   "id": "f6aa9656",
   "metadata": {},
   "outputs": [
    {
     "data": {
      "text/plain": [
       "2     117162.50\n",
       "14    103000.00\n",
       "17    133900.00\n",
       "18     84975.00\n",
       "22    103786.92\n",
       "Name: Salary, dtype: float64"
      ]
     },
     "execution_count": 140,
     "metadata": {},
     "output_type": "execute_result"
    }
   ],
   "source": [
    "surveysAfterIncrease = surveys + surveysIncrease\n",
    "surveysAfterIncrease.head()"
   ]
  },
  {
   "cell_type": "code",
   "execution_count": 177,
   "id": "d1bb006a",
   "metadata": {},
   "outputs": [
    {
     "data": {
      "text/plain": [
       "0             1 - 2 hours\n",
       "1         30 - 59 minutes\n",
       "3    Less than 30 minutes\n",
       "4             1 - 2 hours\n",
       "5         30 - 59 minutes\n",
       "Name: HoursOutside, dtype: object"
      ]
     },
     "execution_count": 177,
     "metadata": {},
     "output_type": "execute_result"
    }
   ],
   "source": [
    "surveysTime = pd.read_csv(\"./data/StackOverflowDeveloperSurvey2018.csv\",\n",
    "                         usecols = [\"HoursOutside\"], low_memory = False).dropna().squeeze()\n",
    "\n",
    "surveysTime.head()"
   ]
  },
  {
   "cell_type": "code",
   "execution_count": 178,
   "id": "a0ea58d0",
   "metadata": {
    "scrolled": true
   },
   "outputs": [
    {
     "data": {
      "text/plain": [
       "1 - 2 hours             27788\n",
       "30 - 59 minutes         24002\n",
       "Less than 30 minutes    11223\n",
       "3 - 4 hours              7186\n",
       "Over 4 hours             1825\n",
       "Name: HoursOutside, dtype: int64"
      ]
     },
     "execution_count": 178,
     "metadata": {},
     "output_type": "execute_result"
    }
   ],
   "source": [
    "surveysTime.value_counts()"
   ]
  },
  {
   "cell_type": "code",
   "execution_count": 179,
   "id": "2e000c41",
   "metadata": {},
   "outputs": [
    {
     "data": {
      "text/plain": [
       "0             1 - 2 hours\n",
       "1         30 - 59 minutes\n",
       "3    less than 30 minutes\n",
       "4             1 - 2 hours\n",
       "5         30 - 59 minutes\n",
       "Name: HoursOutside, dtype: object"
      ]
     },
     "execution_count": 179,
     "metadata": {},
     "output_type": "execute_result"
    }
   ],
   "source": [
    "surveysTime = surveysTime.str.lower()\n",
    "surveysTime.head()"
   ]
  },
  {
   "cell_type": "code",
   "execution_count": 180,
   "id": "69076d90",
   "metadata": {},
   "outputs": [
    {
     "data": {
      "text/plain": [
       "0             1 - 2 HOURS\n",
       "1         30 - 59 MINUTES\n",
       "3    LESS THAN 30 MINUTES\n",
       "4             1 - 2 HOURS\n",
       "5         30 - 59 MINUTES\n",
       "Name: HoursOutside, dtype: object"
      ]
     },
     "execution_count": 180,
     "metadata": {},
     "output_type": "execute_result"
    }
   ],
   "source": [
    "surveysTime = surveysTime.apply(lambda desc: desc.upper())\n",
    "surveysTime.head()"
   ]
  },
  {
   "cell_type": "code",
   "execution_count": 191,
   "id": "9c0971c5",
   "metadata": {},
   "outputs": [],
   "source": [
    "def ChangeDescription(desc):\n",
    "    if desc == 'LESS THAN 30 MINUTES' :\n",
    "        return 'LESS THAN HALF HOUR'\n",
    "    return desc"
   ]
  },
  {
   "cell_type": "code",
   "execution_count": 197,
   "id": "4d90dfea",
   "metadata": {},
   "outputs": [
    {
     "name": "stdout",
     "output_type": "stream",
     "text": [
      "siema\n",
      "LESS THAN HALF HOUR\n",
      "30\n"
     ]
    }
   ],
   "source": [
    "print(ChangeDescription('siema'))\n",
    "\n",
    "print(ChangeDescription('LESS THAN 30 MINUTES'))\n",
    "\n",
    "print(ChangeDescription(30))"
   ]
  },
  {
   "cell_type": "code",
   "execution_count": 196,
   "id": "102b3ab5",
   "metadata": {},
   "outputs": [
    {
     "data": {
      "text/plain": [
       "0            1 - 2 HOURS\n",
       "1        30 - 59 MINUTES\n",
       "3    LESS THAN HALF HOUR\n",
       "4            1 - 2 HOURS\n",
       "5        30 - 59 MINUTES\n",
       "Name: HoursOutside, dtype: object"
      ]
     },
     "execution_count": 196,
     "metadata": {},
     "output_type": "execute_result"
    }
   ],
   "source": [
    "surveysTime.apply(ChangeDescription).head()"
   ]
  },
  {
   "cell_type": "markdown",
   "id": "fc6d0b6a",
   "metadata": {},
   "source": [
    "# Metoda map"
   ]
  },
  {
   "cell_type": "markdown",
   "id": "9f00540d",
   "metadata": {},
   "source": [
    "# Zadania"
   ]
  },
  {
   "cell_type": "code",
   "execution_count": 202,
   "id": "3653f1b3",
   "metadata": {},
   "outputs": [],
   "source": [
    "planes = {\n",
    "    'PYT001': 'Airbus 320',\n",
    "    'PYT002': 'Boeing 737',\n",
    "    'PYT003': 'Airbus 321'\n",
    "}"
   ]
  },
  {
   "cell_type": "code",
   "execution_count": 205,
   "id": "d7787082",
   "metadata": {},
   "outputs": [
    {
     "data": {
      "text/plain": [
       "PYT001    Airbus 320\n",
       "PYT002    Boeing 737\n",
       "PYT003    Airbus 321\n",
       "dtype: object"
      ]
     },
     "execution_count": 205,
     "metadata": {},
     "output_type": "execute_result"
    }
   ],
   "source": [
    "aircrafts = pd.Series(planes)\n",
    "\n",
    "aircrafts.head()"
   ]
  },
  {
   "cell_type": "code",
   "execution_count": 211,
   "id": "c121c520",
   "metadata": {},
   "outputs": [
    {
     "data": {
      "text/plain": [
       "['PYT002', 'PYT003', 'PYT001', 'PYT002', 'PYT001']"
      ]
     },
     "execution_count": 211,
     "metadata": {},
     "output_type": "execute_result"
    }
   ],
   "source": [
    "import random as rd\n",
    "\n",
    "flightsList = []\n",
    "\n",
    "for i in range(100):\n",
    "    flightsList.append(rd.choice(aircrafts.index))\n",
    "    \n",
    "flightsList[:5]"
   ]
  },
  {
   "cell_type": "code",
   "execution_count": 212,
   "id": "869d0798",
   "metadata": {},
   "outputs": [
    {
     "data": {
      "text/plain": [
       "0    PYT002\n",
       "1    PYT003\n",
       "2    PYT001\n",
       "3    PYT002\n",
       "4    PYT001\n",
       "dtype: object"
      ]
     },
     "execution_count": 212,
     "metadata": {},
     "output_type": "execute_result"
    }
   ],
   "source": [
    "flights = pd.Series(flightsList)\n",
    "flights.head()"
   ]
  },
  {
   "cell_type": "code",
   "execution_count": 214,
   "id": "6a5f8e1a",
   "metadata": {},
   "outputs": [
    {
     "data": {
      "text/plain": [
       "0    Boeing 737\n",
       "1    Airbus 321\n",
       "2    Airbus 320\n",
       "3    Boeing 737\n",
       "4    Airbus 320\n",
       "dtype: object"
      ]
     },
     "execution_count": 214,
     "metadata": {},
     "output_type": "execute_result"
    }
   ],
   "source": [
    "flights_aircrafts = flights.map(aircrafts)\n",
    "flights_aircrafts.head()"
   ]
  }
 ],
 "metadata": {
  "kernelspec": {
   "display_name": "Python 3 (ipykernel)",
   "language": "python",
   "name": "python3"
  },
  "language_info": {
   "codemirror_mode": {
    "name": "ipython",
    "version": 3
   },
   "file_extension": ".py",
   "mimetype": "text/x-python",
   "name": "python",
   "nbconvert_exporter": "python",
   "pygments_lexer": "ipython3",
   "version": "3.9.16"
  }
 },
 "nbformat": 4,
 "nbformat_minor": 5
}
